{
 "cells": [
  {
   "cell_type": "markdown",
   "id": "8ab0317f-2fff-4bc9-b16d-d9b652578ac1",
   "metadata": {},
   "source": [
    "Ch14 索引和切片\n",
    "# 索引和切片\n",
    "Book_1《编程不难》 | 鸢尾花书：从加减乘除到机器学习  "
   ]
  },
  {
   "cell_type": "code",
   "execution_count": 18,
   "id": "b7fd0dce-2785-492d-8c71-40feddea5500",
   "metadata": {},
   "outputs": [],
   "source": [
    "# 导入包\n",
    "import numpy as np\n",
    "import seaborn as sns\n",
    "import matplotlib.pyplot as plt\n",
    "import math\n",
    "from matplotlib import cm \n",
    "# 导入色谱\n",
    "\n",
    "import os\n",
    "\n",
    "# 如果文件夹不存在，创建文件夹\n",
    "if not os.path.isdir(\"Figures\"):\n",
    "    os.makedirs(\"Figures\")"
   ]
  },
  {
   "cell_type": "markdown",
   "id": "0aa8b740-7ff9-48da-8773-7b97f3076b6e",
   "metadata": {},
   "source": [
    "## 定义可视化函数"
   ]
  },
  {
   "cell_type": "code",
   "execution_count": 19,
   "id": "3987d0a0-9880-4bea-a3b4-22c7d040acb2",
   "metadata": {},
   "outputs": [],
   "source": [
    "def visualize_2D(array, title, vmax, vmin):\n",
    "    \n",
    "    fig_width  = math.ceil(array.shape[1] * 0.5)\n",
    "    fig_length = math.ceil(array.shape[0] * 0.5)\n",
    "    \n",
    "    fig, ax = plt.subplots(figsize=(fig_width, fig_length))\n",
    "    # 注意，seaborn.heatmap() 目前只能接受2D数组\n",
    "    # 本书中，一维数组可视化时用圆圈\n",
    "    # 可视化时，只有二维、三维数组用方块\n",
    "    \n",
    "    sns.heatmap(array, \n",
    "                vmax = vmax,\n",
    "                vmin = vmin,\n",
    "                annot = True,      # 增加注释\n",
    "                fmt = \".0f\",       # 注释数值的格式\n",
    "                square = True,     # 热图方格为正方形\n",
    "                cmap = 'RdYlBu_r', # 指定色谱\n",
    "                linewidths = .5,   # 方格线宽\n",
    "                cbar = False,      # 不显示色谱条\n",
    "                yticklabels=False, # 不显示纵轴标签\n",
    "                xticklabels=False, # 不显示横轴标签\n",
    "                ax = ax)           # 指定绘制热图的轴\n",
    "    \n",
    "    fig.savefig('Figures/' + title + '.svg', format='svg')\n",
    "\n",
    "# 定义绘制一元数组可视化函数\n",
    "\n",
    "def visualize_1D(array, title):\n",
    "    fig, ax = plt.subplots()\n",
    "\n",
    "    colors = cm.RdYlBu_r(np.linspace(0,1,len(array)))\n",
    "\n",
    "    for idx in range(len(array)):\n",
    "\n",
    "        circle_idx = plt.Circle((idx, 0), 0.5, facecolor=colors[idx], edgecolor = 'w')\n",
    "        ax.add_patch(circle_idx)\n",
    "        ax.text(idx, 0, s = str(array[idx]),\n",
    "                horizontalalignment = 'center',\n",
    "                verticalalignment = 'center')\n",
    "\n",
    "    ax.set_xlim(-0.6, 0.6 + len(array))\n",
    "    ax.set_ylim(-0.6, 0.6)\n",
    "    ax.set_aspect('equal', adjustable='box')\n",
    "    ax.axis('off')\n",
    "    fig.savefig('Figures/' + title + '.svg', format='svg')"
   ]
  },
  {
   "cell_type": "markdown",
   "id": "29bf4f1a-003d-48bf-b5b1-49d03456ca31",
   "metadata": {},
   "source": [
    "## 一维数组"
   ]
  },
  {
   "cell_type": "markdown",
   "id": "cb1204b2-1f67-47e5-8b6b-890e797d193d",
   "metadata": {},
   "source": [
    "### 定义一维数组"
   ]
  },
  {
   "cell_type": "code",
   "execution_count": 20,
   "id": "4c9059fe-5088-4073-906c-efed902bceee",
   "metadata": {},
   "outputs": [],
   "source": [
    "a_1D_array = np.arange(-5, 5 + 1)"
   ]
  },
  {
   "cell_type": "code",
   "execution_count": 21,
   "id": "6d1ea1c3-8818-454d-a5a3-fc7f634d8907",
   "metadata": {},
   "outputs": [
    {
     "data": {
      "text/plain": [
       "(11,)"
      ]
     },
     "execution_count": 21,
     "metadata": {},
     "output_type": "execute_result"
    }
   ],
   "source": [
    "a_1D_array.shape"
   ]
  },
  {
   "cell_type": "code",
   "execution_count": 22,
   "id": "5eec0f37-9075-4eb5-b56b-d7250b44fa13",
   "metadata": {},
   "outputs": [
    {
     "data": {
      "text/plain": [
       "1"
      ]
     },
     "execution_count": 22,
     "metadata": {},
     "output_type": "execute_result"
    }
   ],
   "source": [
    "a_1D_array.ndim"
   ]
  },
  {
   "cell_type": "code",
   "execution_count": 23,
   "id": "e09b71c9-3360-4977-8b9d-1af18e1b7039",
   "metadata": {},
   "outputs": [
    {
     "data": {
      "text/plain": [
       "11"
      ]
     },
     "execution_count": 23,
     "metadata": {},
     "output_type": "execute_result"
    }
   ],
   "source": [
    "len(a_1D_array)"
   ]
  },
  {
   "cell_type": "code",
   "execution_count": 24,
   "id": "c7b3785f-89ce-4da9-87ae-40ec5eb9f0c2",
   "metadata": {},
   "outputs": [
    {
     "data": {
      "image/svg+xml": [
       "<?xml version=\"1.0\" encoding=\"utf-8\" standalone=\"no\"?>\n",
       "<!DOCTYPE svg PUBLIC \"-//W3C//DTD SVG 1.1//EN\"\n",
       "  \"http://www.w3.org/Graphics/SVG/1.1/DTD/svg11.dtd\">\n",
       "<svg xmlns:xlink=\"http://www.w3.org/1999/xlink\" width=\"371.52pt\" height=\"49.526557pt\" viewBox=\"0 0 371.52 49.526557\" xmlns=\"http://www.w3.org/2000/svg\" version=\"1.1\">\n",
       " <metadata>\n",
       "  <rdf:RDF xmlns:dc=\"http://purl.org/dc/elements/1.1/\" xmlns:cc=\"http://creativecommons.org/ns#\" xmlns:rdf=\"http://www.w3.org/1999/02/22-rdf-syntax-ns#\">\n",
       "   <cc:Work>\n",
       "    <dc:type rdf:resource=\"http://purl.org/dc/dcmitype/StillImage\"/>\n",
       "    <dc:date>2023-08-15T16:16:30.197264</dc:date>\n",
       "    <dc:format>image/svg+xml</dc:format>\n",
       "    <dc:creator>\n",
       "     <cc:Agent>\n",
       "      <dc:title>Matplotlib v3.7.1, https://matplotlib.org/</dc:title>\n",
       "     </cc:Agent>\n",
       "    </dc:creator>\n",
       "   </cc:Work>\n",
       "  </rdf:RDF>\n",
       " </metadata>\n",
       " <defs>\n",
       "  <style type=\"text/css\">*{stroke-linejoin: round; stroke-linecap: butt}</style>\n",
       " </defs>\n",
       " <g id=\"figure_1\">\n",
       "  <g id=\"patch_1\">\n",
       "   <path d=\"M 0 49.526557 \n",
       "L 371.52 49.526557 \n",
       "L 371.52 -0 \n",
       "L 0 -0 \n",
       "z\n",
       "\" style=\"fill: #ffffff\"/>\n",
       "  </g>\n",
       "  <g id=\"axes_1\">\n",
       "   <g id=\"patch_2\">\n",
       "    <path d=\"M 24.763279 39.399344 \n",
       "C 28.644809 39.399344 32.367884 37.857196 35.11254 35.11254 \n",
       "C 37.857196 32.367884 39.399344 28.644809 39.399344 24.763279 \n",
       "C 39.399344 20.881749 37.857196 17.158674 35.11254 14.414017 \n",
       "C 32.367884 11.669361 28.644809 10.127213 24.763279 10.127213 \n",
       "C 20.881749 10.127213 17.158674 11.669361 14.414017 14.414017 \n",
       "C 11.669361 17.158674 10.127213 20.881749 10.127213 24.763279 \n",
       "C 10.127213 28.644809 11.669361 32.367884 14.414017 35.11254 \n",
       "C 17.158674 37.857196 20.881749 39.399344 24.763279 39.399344 \n",
       "z\n",
       "\" clip-path=\"url(#p71554718d2)\" style=\"fill: #313695; stroke: #ffffff; stroke-linejoin: miter\"/>\n",
       "   </g>\n",
       "   <g id=\"patch_3\">\n",
       "    <path d=\"M 54.03541 39.399344 \n",
       "C 57.91694 39.399344 61.640015 37.857196 64.384671 35.11254 \n",
       "C 67.129327 32.367884 68.671475 28.644809 68.671475 24.763279 \n",
       "C 68.671475 20.881749 67.129327 17.158674 64.384671 14.414017 \n",
       "C 61.640015 11.669361 57.91694 10.127213 54.03541 10.127213 \n",
       "C 50.15388 10.127213 46.430805 11.669361 43.686149 14.414017 \n",
       "C 40.941492 17.158674 39.399344 20.881749 39.399344 24.763279 \n",
       "C 39.399344 28.644809 40.941492 32.367884 43.686149 35.11254 \n",
       "C 46.430805 37.857196 50.15388 39.399344 54.03541 39.399344 \n",
       "z\n",
       "\" clip-path=\"url(#p71554718d2)\" style=\"fill: #4574b3; stroke: #ffffff; stroke-linejoin: miter\"/>\n",
       "   </g>\n",
       "   <g id=\"patch_4\">\n",
       "    <path d=\"M 83.307541 39.399344 \n",
       "C 87.189071 39.399344 90.912146 37.857196 93.656802 35.11254 \n",
       "C 96.401458 32.367884 97.943607 28.644809 97.943607 24.763279 \n",
       "C 97.943607 20.881749 96.401458 17.158674 93.656802 14.414017 \n",
       "C 90.912146 11.669361 87.189071 10.127213 83.307541 10.127213 \n",
       "C 79.426011 10.127213 75.702936 11.669361 72.95828 14.414017 \n",
       "C 70.213624 17.158674 68.671475 20.881749 68.671475 24.763279 \n",
       "C 68.671475 28.644809 70.213624 32.367884 72.95828 35.11254 \n",
       "C 75.702936 37.857196 79.426011 39.399344 83.307541 39.399344 \n",
       "z\n",
       "\" clip-path=\"url(#p71554718d2)\" style=\"fill: #74add1; stroke: #ffffff; stroke-linejoin: miter\"/>\n",
       "   </g>\n",
       "   <g id=\"patch_5\">\n",
       "    <path d=\"M 112.579672 39.399344 \n",
       "C 116.461202 39.399344 120.184277 37.857196 122.928933 35.11254 \n",
       "C 125.67359 32.367884 127.215738 28.644809 127.215738 24.763279 \n",
       "C 127.215738 20.881749 125.67359 17.158674 122.928933 14.414017 \n",
       "C 120.184277 11.669361 116.461202 10.127213 112.579672 10.127213 \n",
       "C 108.698142 10.127213 104.975067 11.669361 102.230411 14.414017 \n",
       "C 99.485755 17.158674 97.943607 20.881749 97.943607 24.763279 \n",
       "C 97.943607 28.644809 99.485755 32.367884 102.230411 35.11254 \n",
       "C 104.975067 37.857196 108.698142 39.399344 112.579672 39.399344 \n",
       "z\n",
       "\" clip-path=\"url(#p71554718d2)\" style=\"fill: #aad8e9; stroke: #ffffff; stroke-linejoin: miter\"/>\n",
       "   </g>\n",
       "   <g id=\"patch_6\">\n",
       "    <path d=\"M 141.851803 39.399344 \n",
       "C 145.733333 39.399344 149.456408 37.857196 152.201064 35.11254 \n",
       "C 154.945721 32.367884 156.487869 28.644809 156.487869 24.763279 \n",
       "C 156.487869 20.881749 154.945721 17.158674 152.201064 14.414017 \n",
       "C 149.456408 11.669361 145.733333 10.127213 141.851803 10.127213 \n",
       "C 137.970273 10.127213 134.247198 11.669361 131.502542 14.414017 \n",
       "C 128.757886 17.158674 127.215738 20.881749 127.215738 24.763279 \n",
       "C 127.215738 28.644809 128.757886 32.367884 131.502542 35.11254 \n",
       "C 134.247198 37.857196 137.970273 39.399344 141.851803 39.399344 \n",
       "z\n",
       "\" clip-path=\"url(#p71554718d2)\" style=\"fill: #e0f3f8; stroke: #ffffff; stroke-linejoin: miter\"/>\n",
       "   </g>\n",
       "   <g id=\"patch_7\">\n",
       "    <path d=\"M 171.123934 39.399344 \n",
       "C 175.005464 39.399344 178.728539 37.857196 181.473196 35.11254 \n",
       "C 184.217852 32.367884 185.76 28.644809 185.76 24.763279 \n",
       "C 185.76 20.881749 184.217852 17.158674 181.473196 14.414017 \n",
       "C 178.728539 11.669361 175.005464 10.127213 171.123934 10.127213 \n",
       "C 167.242404 10.127213 163.519329 11.669361 160.774673 14.414017 \n",
       "C 158.030017 17.158674 156.487869 20.881749 156.487869 24.763279 \n",
       "C 156.487869 28.644809 158.030017 32.367884 160.774673 35.11254 \n",
       "C 163.519329 37.857196 167.242404 39.399344 171.123934 39.399344 \n",
       "z\n",
       "\" clip-path=\"url(#p71554718d2)\" style=\"fill: #fffebe; stroke: #ffffff; stroke-linejoin: miter\"/>\n",
       "   </g>\n",
       "   <g id=\"patch_8\">\n",
       "    <path d=\"M 200.396066 39.399344 \n",
       "C 204.277596 39.399344 208.000671 37.857196 210.745327 35.11254 \n",
       "C 213.489983 32.367884 215.032131 28.644809 215.032131 24.763279 \n",
       "C 215.032131 20.881749 213.489983 17.158674 210.745327 14.414017 \n",
       "C 208.000671 11.669361 204.277596 10.127213 200.396066 10.127213 \n",
       "C 196.514536 10.127213 192.791461 11.669361 190.046804 14.414017 \n",
       "C 187.302148 17.158674 185.76 20.881749 185.76 24.763279 \n",
       "C 185.76 28.644809 187.302148 32.367884 190.046804 35.11254 \n",
       "C 192.791461 37.857196 196.514536 39.399344 200.396066 39.399344 \n",
       "z\n",
       "\" clip-path=\"url(#p71554718d2)\" style=\"fill: #fee090; stroke: #ffffff; stroke-linejoin: miter\"/>\n",
       "   </g>\n",
       "   <g id=\"patch_9\">\n",
       "    <path d=\"M 229.668197 39.399344 \n",
       "C 233.549727 39.399344 237.272802 37.857196 240.017458 35.11254 \n",
       "C 242.762114 32.367884 244.304262 28.644809 244.304262 24.763279 \n",
       "C 244.304262 20.881749 242.762114 17.158674 240.017458 14.414017 \n",
       "C 237.272802 11.669361 233.549727 10.127213 229.668197 10.127213 \n",
       "C 225.786667 10.127213 222.063592 11.669361 219.318936 14.414017 \n",
       "C 216.574279 17.158674 215.032131 20.881749 215.032131 24.763279 \n",
       "C 215.032131 28.644809 216.574279 32.367884 219.318936 35.11254 \n",
       "C 222.063592 37.857196 225.786667 39.399344 229.668197 39.399344 \n",
       "z\n",
       "\" clip-path=\"url(#p71554718d2)\" style=\"fill: #fdad60; stroke: #ffffff; stroke-linejoin: miter\"/>\n",
       "   </g>\n",
       "   <g id=\"patch_10\">\n",
       "    <path d=\"M 258.940328 39.399344 \n",
       "C 262.821858 39.399344 266.544933 37.857196 269.289589 35.11254 \n",
       "C 272.034245 32.367884 273.576393 28.644809 273.576393 24.763279 \n",
       "C 273.576393 20.881749 272.034245 17.158674 269.289589 14.414017 \n",
       "C 266.544933 11.669361 262.821858 10.127213 258.940328 10.127213 \n",
       "C 255.058798 10.127213 251.335723 11.669361 248.591067 14.414017 \n",
       "C 245.84641 17.158674 244.304262 20.881749 244.304262 24.763279 \n",
       "C 244.304262 28.644809 245.84641 32.367884 248.591067 35.11254 \n",
       "C 251.335723 37.857196 255.058798 39.399344 258.940328 39.399344 \n",
       "z\n",
       "\" clip-path=\"url(#p71554718d2)\" style=\"fill: #f46d43; stroke: #ffffff; stroke-linejoin: miter\"/>\n",
       "   </g>\n",
       "   <g id=\"patch_11\">\n",
       "    <path d=\"M 288.212459 39.399344 \n",
       "C 292.093989 39.399344 295.817064 37.857196 298.56172 35.11254 \n",
       "C 301.306376 32.367884 302.848525 28.644809 302.848525 24.763279 \n",
       "C 302.848525 20.881749 301.306376 17.158674 298.56172 14.414017 \n",
       "C 295.817064 11.669361 292.093989 10.127213 288.212459 10.127213 \n",
       "C 284.330929 10.127213 280.607854 11.669361 277.863198 14.414017 \n",
       "C 275.118542 17.158674 273.576393 20.881749 273.576393 24.763279 \n",
       "C 273.576393 28.644809 275.118542 32.367884 277.863198 35.11254 \n",
       "C 280.607854 37.857196 284.330929 39.399344 288.212459 39.399344 \n",
       "z\n",
       "\" clip-path=\"url(#p71554718d2)\" style=\"fill: #d62f27; stroke: #ffffff; stroke-linejoin: miter\"/>\n",
       "   </g>\n",
       "   <g id=\"patch_12\">\n",
       "    <path d=\"M 317.48459 39.399344 \n",
       "C 321.36612 39.399344 325.089195 37.857196 327.833851 35.11254 \n",
       "C 330.578508 32.367884 332.120656 28.644809 332.120656 24.763279 \n",
       "C 332.120656 20.881749 330.578508 17.158674 327.833851 14.414017 \n",
       "C 325.089195 11.669361 321.36612 10.127213 317.48459 10.127213 \n",
       "C 313.60306 10.127213 309.879985 11.669361 307.135329 14.414017 \n",
       "C 304.390673 17.158674 302.848525 20.881749 302.848525 24.763279 \n",
       "C 302.848525 28.644809 304.390673 32.367884 307.135329 35.11254 \n",
       "C 309.879985 37.857196 313.60306 39.399344 317.48459 39.399344 \n",
       "z\n",
       "\" clip-path=\"url(#p71554718d2)\" style=\"fill: #a50026; stroke: #ffffff; stroke-linejoin: miter\"/>\n",
       "   </g>\n",
       "   <g id=\"text_1\">\n",
       "    <!-- -5 -->\n",
       "    <g transform=\"translate(19.778122 27.522654) scale(0.1 -0.1)\">\n",
       "     <defs>\n",
       "      <path id=\"DejaVuSans-2d\" d=\"M 313 2009 \n",
       "L 1997 2009 \n",
       "L 1997 1497 \n",
       "L 313 1497 \n",
       "L 313 2009 \n",
       "z\n",
       "\" transform=\"scale(0.015625)\"/>\n",
       "      <path id=\"DejaVuSans-35\" d=\"M 691 4666 \n",
       "L 3169 4666 \n",
       "L 3169 4134 \n",
       "L 1269 4134 \n",
       "L 1269 2991 \n",
       "Q 1406 3038 1543 3061 \n",
       "Q 1681 3084 1819 3084 \n",
       "Q 2600 3084 3056 2656 \n",
       "Q 3513 2228 3513 1497 \n",
       "Q 3513 744 3044 326 \n",
       "Q 2575 -91 1722 -91 \n",
       "Q 1428 -91 1123 -41 \n",
       "Q 819 9 494 109 \n",
       "L 494 744 \n",
       "Q 775 591 1075 516 \n",
       "Q 1375 441 1709 441 \n",
       "Q 2250 441 2565 725 \n",
       "Q 2881 1009 2881 1497 \n",
       "Q 2881 1984 2565 2268 \n",
       "Q 2250 2553 1709 2553 \n",
       "Q 1456 2553 1204 2497 \n",
       "Q 953 2441 691 2322 \n",
       "L 691 4666 \n",
       "z\n",
       "\" transform=\"scale(0.015625)\"/>\n",
       "     </defs>\n",
       "     <use xlink:href=\"#DejaVuSans-2d\"/>\n",
       "     <use xlink:href=\"#DejaVuSans-35\" x=\"36.083984\"/>\n",
       "    </g>\n",
       "   </g>\n",
       "   <g id=\"text_2\">\n",
       "    <!-- -4 -->\n",
       "    <g transform=\"translate(49.050254 27.522654) scale(0.1 -0.1)\">\n",
       "     <defs>\n",
       "      <path id=\"DejaVuSans-34\" d=\"M 2419 4116 \n",
       "L 825 1625 \n",
       "L 2419 1625 \n",
       "L 2419 4116 \n",
       "z\n",
       "M 2253 4666 \n",
       "L 3047 4666 \n",
       "L 3047 1625 \n",
       "L 3713 1625 \n",
       "L 3713 1100 \n",
       "L 3047 1100 \n",
       "L 3047 0 \n",
       "L 2419 0 \n",
       "L 2419 1100 \n",
       "L 313 1100 \n",
       "L 313 1709 \n",
       "L 2253 4666 \n",
       "z\n",
       "\" transform=\"scale(0.015625)\"/>\n",
       "     </defs>\n",
       "     <use xlink:href=\"#DejaVuSans-2d\"/>\n",
       "     <use xlink:href=\"#DejaVuSans-34\" x=\"36.083984\"/>\n",
       "    </g>\n",
       "   </g>\n",
       "   <g id=\"text_3\">\n",
       "    <!-- -3 -->\n",
       "    <g transform=\"translate(78.322385 27.522654) scale(0.1 -0.1)\">\n",
       "     <defs>\n",
       "      <path id=\"DejaVuSans-33\" d=\"M 2597 2516 \n",
       "Q 3050 2419 3304 2112 \n",
       "Q 3559 1806 3559 1356 \n",
       "Q 3559 666 3084 287 \n",
       "Q 2609 -91 1734 -91 \n",
       "Q 1441 -91 1130 -33 \n",
       "Q 819 25 488 141 \n",
       "L 488 750 \n",
       "Q 750 597 1062 519 \n",
       "Q 1375 441 1716 441 \n",
       "Q 2309 441 2620 675 \n",
       "Q 2931 909 2931 1356 \n",
       "Q 2931 1769 2642 2001 \n",
       "Q 2353 2234 1838 2234 \n",
       "L 1294 2234 \n",
       "L 1294 2753 \n",
       "L 1863 2753 \n",
       "Q 2328 2753 2575 2939 \n",
       "Q 2822 3125 2822 3475 \n",
       "Q 2822 3834 2567 4026 \n",
       "Q 2313 4219 1838 4219 \n",
       "Q 1578 4219 1281 4162 \n",
       "Q 984 4106 628 3988 \n",
       "L 628 4550 \n",
       "Q 988 4650 1302 4700 \n",
       "Q 1616 4750 1894 4750 \n",
       "Q 2613 4750 3031 4423 \n",
       "Q 3450 4097 3450 3541 \n",
       "Q 3450 3153 3228 2886 \n",
       "Q 3006 2619 2597 2516 \n",
       "z\n",
       "\" transform=\"scale(0.015625)\"/>\n",
       "     </defs>\n",
       "     <use xlink:href=\"#DejaVuSans-2d\"/>\n",
       "     <use xlink:href=\"#DejaVuSans-33\" x=\"36.083984\"/>\n",
       "    </g>\n",
       "   </g>\n",
       "   <g id=\"text_4\">\n",
       "    <!-- -2 -->\n",
       "    <g transform=\"translate(107.594516 27.522654) scale(0.1 -0.1)\">\n",
       "     <defs>\n",
       "      <path id=\"DejaVuSans-32\" d=\"M 1228 531 \n",
       "L 3431 531 \n",
       "L 3431 0 \n",
       "L 469 0 \n",
       "L 469 531 \n",
       "Q 828 903 1448 1529 \n",
       "Q 2069 2156 2228 2338 \n",
       "Q 2531 2678 2651 2914 \n",
       "Q 2772 3150 2772 3378 \n",
       "Q 2772 3750 2511 3984 \n",
       "Q 2250 4219 1831 4219 \n",
       "Q 1534 4219 1204 4116 \n",
       "Q 875 4013 500 3803 \n",
       "L 500 4441 \n",
       "Q 881 4594 1212 4672 \n",
       "Q 1544 4750 1819 4750 \n",
       "Q 2544 4750 2975 4387 \n",
       "Q 3406 4025 3406 3419 \n",
       "Q 3406 3131 3298 2873 \n",
       "Q 3191 2616 2906 2266 \n",
       "Q 2828 2175 2409 1742 \n",
       "Q 1991 1309 1228 531 \n",
       "z\n",
       "\" transform=\"scale(0.015625)\"/>\n",
       "     </defs>\n",
       "     <use xlink:href=\"#DejaVuSans-2d\"/>\n",
       "     <use xlink:href=\"#DejaVuSans-32\" x=\"36.083984\"/>\n",
       "    </g>\n",
       "   </g>\n",
       "   <g id=\"text_5\">\n",
       "    <!-- -1 -->\n",
       "    <g transform=\"translate(136.866647 27.522654) scale(0.1 -0.1)\">\n",
       "     <defs>\n",
       "      <path id=\"DejaVuSans-31\" d=\"M 794 531 \n",
       "L 1825 531 \n",
       "L 1825 4091 \n",
       "L 703 3866 \n",
       "L 703 4441 \n",
       "L 1819 4666 \n",
       "L 2450 4666 \n",
       "L 2450 531 \n",
       "L 3481 531 \n",
       "L 3481 0 \n",
       "L 794 0 \n",
       "L 794 531 \n",
       "z\n",
       "\" transform=\"scale(0.015625)\"/>\n",
       "     </defs>\n",
       "     <use xlink:href=\"#DejaVuSans-2d\"/>\n",
       "     <use xlink:href=\"#DejaVuSans-31\" x=\"36.083984\"/>\n",
       "    </g>\n",
       "   </g>\n",
       "   <g id=\"text_6\">\n",
       "    <!-- 0 -->\n",
       "    <g transform=\"translate(167.942684 27.522654) scale(0.1 -0.1)\">\n",
       "     <defs>\n",
       "      <path id=\"DejaVuSans-30\" d=\"M 2034 4250 \n",
       "Q 1547 4250 1301 3770 \n",
       "Q 1056 3291 1056 2328 \n",
       "Q 1056 1369 1301 889 \n",
       "Q 1547 409 2034 409 \n",
       "Q 2525 409 2770 889 \n",
       "Q 3016 1369 3016 2328 \n",
       "Q 3016 3291 2770 3770 \n",
       "Q 2525 4250 2034 4250 \n",
       "z\n",
       "M 2034 4750 \n",
       "Q 2819 4750 3233 4129 \n",
       "Q 3647 3509 3647 2328 \n",
       "Q 3647 1150 3233 529 \n",
       "Q 2819 -91 2034 -91 \n",
       "Q 1250 -91 836 529 \n",
       "Q 422 1150 422 2328 \n",
       "Q 422 3509 836 4129 \n",
       "Q 1250 4750 2034 4750 \n",
       "z\n",
       "\" transform=\"scale(0.015625)\"/>\n",
       "     </defs>\n",
       "     <use xlink:href=\"#DejaVuSans-30\"/>\n",
       "    </g>\n",
       "   </g>\n",
       "   <g id=\"text_7\">\n",
       "    <!-- 1 -->\n",
       "    <g transform=\"translate(197.214816 27.522654) scale(0.1 -0.1)\">\n",
       "     <use xlink:href=\"#DejaVuSans-31\"/>\n",
       "    </g>\n",
       "   </g>\n",
       "   <g id=\"text_8\">\n",
       "    <!-- 2 -->\n",
       "    <g transform=\"translate(226.486947 27.522654) scale(0.1 -0.1)\">\n",
       "     <use xlink:href=\"#DejaVuSans-32\"/>\n",
       "    </g>\n",
       "   </g>\n",
       "   <g id=\"text_9\">\n",
       "    <!-- 3 -->\n",
       "    <g transform=\"translate(255.759078 27.522654) scale(0.1 -0.1)\">\n",
       "     <use xlink:href=\"#DejaVuSans-33\"/>\n",
       "    </g>\n",
       "   </g>\n",
       "   <g id=\"text_10\">\n",
       "    <!-- 4 -->\n",
       "    <g transform=\"translate(285.031209 27.522654) scale(0.1 -0.1)\">\n",
       "     <use xlink:href=\"#DejaVuSans-34\"/>\n",
       "    </g>\n",
       "   </g>\n",
       "   <g id=\"text_11\">\n",
       "    <!-- 5 -->\n",
       "    <g transform=\"translate(314.30334 27.522654) scale(0.1 -0.1)\">\n",
       "     <use xlink:href=\"#DejaVuSans-35\"/>\n",
       "    </g>\n",
       "   </g>\n",
       "  </g>\n",
       " </g>\n",
       " <defs>\n",
       "  <clipPath id=\"p71554718d2\">\n",
       "   <rect x=\"7.2\" y=\"7.2\" width=\"357.12\" height=\"35.126557\"/>\n",
       "  </clipPath>\n",
       " </defs>\n",
       "</svg>\n"
      ],
      "text/plain": [
       "<Figure size 640x480 with 1 Axes>"
      ]
     },
     "metadata": {},
     "output_type": "display_data"
    }
   ],
   "source": [
    "visualize_1D(a_1D_array, '一维数组')"
   ]
  },
  {
   "cell_type": "markdown",
   "id": "b135100b-ce88-42cf-af5f-9f9a774191d5",
   "metadata": {},
   "source": [
    "### 索引"
   ]
  },
  {
   "cell_type": "code",
   "execution_count": 25,
   "id": "83620aa7-4a71-4a04-beab-d123ad34256f",
   "metadata": {},
   "outputs": [
    {
     "data": {
      "text/plain": [
       "-5"
      ]
     },
     "execution_count": 25,
     "metadata": {},
     "output_type": "execute_result"
    }
   ],
   "source": [
    "# 第一个元素，索引为0\n",
    "a_1D_array[0]"
   ]
  },
  {
   "cell_type": "code",
   "execution_count": 26,
   "id": "2069c661-71b7-4a9f-916c-2441375e9d51",
   "metadata": {},
   "outputs": [
    {
     "data": {
      "text/plain": [
       "-5"
      ]
     },
     "execution_count": 26,
     "metadata": {},
     "output_type": "execute_result"
    }
   ],
   "source": [
    "a_1D_array[-11]"
   ]
  },
  {
   "cell_type": "code",
   "execution_count": 27,
   "id": "dfcda765-e2ce-4a41-bb33-f414a5d780df",
   "metadata": {},
   "outputs": [
    {
     "data": {
      "text/plain": [
       "5"
      ]
     },
     "execution_count": 27,
     "metadata": {},
     "output_type": "execute_result"
    }
   ],
   "source": [
    "# 最后一个元素，索引为-1 或 len(a_1D_array) - 1\n",
    "a_1D_array[-1]"
   ]
  },
  {
   "cell_type": "code",
   "execution_count": 28,
   "id": "2efce5c6-e1f4-45c8-8299-c50242a093fe",
   "metadata": {},
   "outputs": [
    {
     "data": {
      "text/plain": [
       "5"
      ]
     },
     "execution_count": 28,
     "metadata": {},
     "output_type": "execute_result"
    }
   ],
   "source": [
    "a_1D_array[len(a_1D_array) - 1]"
   ]
  },
  {
   "cell_type": "code",
   "execution_count": 29,
   "id": "a4261eba-3b64-4895-8d7f-6836513b4e21",
   "metadata": {},
   "outputs": [
    {
     "data": {
      "text/plain": [
       "5"
      ]
     },
     "execution_count": 29,
     "metadata": {},
     "output_type": "execute_result"
    }
   ],
   "source": [
    "a_1D_array[10]"
   ]
  },
  {
   "cell_type": "code",
   "execution_count": 30,
   "id": "cf275b2c-2c37-4ff9-80cd-56dfa2e2cd60",
   "metadata": {},
   "outputs": [
    {
     "data": {
      "text/plain": [
       "4"
      ]
     },
     "execution_count": 30,
     "metadata": {},
     "output_type": "execute_result"
    }
   ],
   "source": [
    "# 倒数第二个元素，索引为-2 或len(a_1D_array) - 2\n",
    "a_1D_array[-2]"
   ]
  },
  {
   "cell_type": "markdown",
   "id": "47a8ce99-bfae-4d99-b3a2-79d8eb7bc4de",
   "metadata": {},
   "source": [
    "### 行向量、列向量"
   ]
  },
  {
   "cell_type": "code",
   "execution_count": 31,
   "id": "4c4239ca-1fd9-46ba-b8e7-ee44651c4b19",
   "metadata": {},
   "outputs": [
    {
     "data": {
      "text/plain": [
       "array([[-5],\n",
       "       [-4],\n",
       "       [-3],\n",
       "       [-2],\n",
       "       [-1],\n",
       "       [ 0],\n",
       "       [ 1],\n",
       "       [ 2],\n",
       "       [ 3],\n",
       "       [ 4],\n",
       "       [ 5]])"
      ]
     },
     "execution_count": 31,
     "metadata": {},
     "output_type": "execute_result"
    }
   ],
   "source": [
    "# 转为列向量\n",
    "a_1D_array[:, np.newaxis]"
   ]
  },
  {
   "cell_type": "code",
   "execution_count": 32,
   "id": "c00bff43-83a6-43e1-9f73-5ccad021c857",
   "metadata": {},
   "outputs": [
    {
     "data": {
      "image/svg+xml": [
       "<?xml version=\"1.0\" encoding=\"utf-8\" standalone=\"no\"?>\n",
       "<!DOCTYPE svg PUBLIC \"-//W3C//DTD SVG 1.1//EN\"\n",
       "  \"http://www.w3.org/Graphics/SVG/1.1/DTD/svg11.dtd\">\n",
       "<svg xmlns:xlink=\"http://www.w3.org/1999/xlink\" width=\"44.64pt\" height=\"347.04pt\" viewBox=\"0 0 44.64 347.04\" xmlns=\"http://www.w3.org/2000/svg\" version=\"1.1\">\n",
       " <metadata>\n",
       "  <rdf:RDF xmlns:dc=\"http://purl.org/dc/elements/1.1/\" xmlns:cc=\"http://creativecommons.org/ns#\" xmlns:rdf=\"http://www.w3.org/1999/02/22-rdf-syntax-ns#\">\n",
       "   <cc:Work>\n",
       "    <dc:type rdf:resource=\"http://purl.org/dc/dcmitype/StillImage\"/>\n",
       "    <dc:date>2023-08-15T16:16:30.254304</dc:date>\n",
       "    <dc:format>image/svg+xml</dc:format>\n",
       "    <dc:creator>\n",
       "     <cc:Agent>\n",
       "      <dc:title>Matplotlib v3.7.1, https://matplotlib.org/</dc:title>\n",
       "     </cc:Agent>\n",
       "    </dc:creator>\n",
       "   </cc:Work>\n",
       "  </rdf:RDF>\n",
       " </metadata>\n",
       " <defs>\n",
       "  <style type=\"text/css\">*{stroke-linejoin: round; stroke-linecap: butt}</style>\n",
       " </defs>\n",
       " <g id=\"figure_1\">\n",
       "  <g id=\"patch_1\">\n",
       "   <path d=\"M 0 347.04 \n",
       "L 44.64 347.04 \n",
       "L 44.64 -0 \n",
       "L 0 -0 \n",
       "z\n",
       "\" style=\"fill: #ffffff\"/>\n",
       "  </g>\n",
       "  <g id=\"axes_1\">\n",
       "   <g id=\"patch_2\">\n",
       "    <path d=\"M 7.2 339.84 \n",
       "L 37.44 339.84 \n",
       "L 37.44 7.2 \n",
       "L 7.2 7.2 \n",
       "z\n",
       "\" style=\"fill: #ffffff\"/>\n",
       "   </g>\n",
       "   <g id=\"QuadMesh_1\">\n",
       "    <path d=\"M 7.2 7.2 \n",
       "L 37.44 7.2 \n",
       "L 37.44 37.44 \n",
       "L 7.2 37.44 \n",
       "L 7.2 7.2 \n",
       "\" clip-path=\"url(#pbb7bc47831)\" style=\"fill: #313695; stroke: #ffffff; stroke-width: 0.5\"/>\n",
       "    <path d=\"M 7.2 37.44 \n",
       "L 37.44 37.44 \n",
       "L 37.44 67.68 \n",
       "L 7.2 67.68 \n",
       "L 7.2 37.44 \n",
       "\" clip-path=\"url(#pbb7bc47831)\" style=\"fill: #4574b3; stroke: #ffffff; stroke-width: 0.5\"/>\n",
       "    <path d=\"M 7.2 67.68 \n",
       "L 37.44 67.68 \n",
       "L 37.44 97.92 \n",
       "L 7.2 97.92 \n",
       "L 7.2 67.68 \n",
       "\" clip-path=\"url(#pbb7bc47831)\" style=\"fill: #74add1; stroke: #ffffff; stroke-width: 0.5\"/>\n",
       "    <path d=\"M 7.2 97.92 \n",
       "L 37.44 97.92 \n",
       "L 37.44 128.16 \n",
       "L 7.2 128.16 \n",
       "L 7.2 97.92 \n",
       "\" clip-path=\"url(#pbb7bc47831)\" style=\"fill: #aad8e9; stroke: #ffffff; stroke-width: 0.5\"/>\n",
       "    <path d=\"M 7.2 128.16 \n",
       "L 37.44 128.16 \n",
       "L 37.44 158.4 \n",
       "L 7.2 158.4 \n",
       "L 7.2 128.16 \n",
       "\" clip-path=\"url(#pbb7bc47831)\" style=\"fill: #e0f3f8; stroke: #ffffff; stroke-width: 0.5\"/>\n",
       "    <path d=\"M 7.2 158.4 \n",
       "L 37.44 158.4 \n",
       "L 37.44 188.64 \n",
       "L 7.2 188.64 \n",
       "L 7.2 158.4 \n",
       "\" clip-path=\"url(#pbb7bc47831)\" style=\"fill: #fffebe; stroke: #ffffff; stroke-width: 0.5\"/>\n",
       "    <path d=\"M 7.2 188.64 \n",
       "L 37.44 188.64 \n",
       "L 37.44 218.88 \n",
       "L 7.2 218.88 \n",
       "L 7.2 188.64 \n",
       "\" clip-path=\"url(#pbb7bc47831)\" style=\"fill: #fee090; stroke: #ffffff; stroke-width: 0.5\"/>\n",
       "    <path d=\"M 7.2 218.88 \n",
       "L 37.44 218.88 \n",
       "L 37.44 249.12 \n",
       "L 7.2 249.12 \n",
       "L 7.2 218.88 \n",
       "\" clip-path=\"url(#pbb7bc47831)\" style=\"fill: #fdad60; stroke: #ffffff; stroke-width: 0.5\"/>\n",
       "    <path d=\"M 7.2 249.12 \n",
       "L 37.44 249.12 \n",
       "L 37.44 279.36 \n",
       "L 7.2 279.36 \n",
       "L 7.2 249.12 \n",
       "\" clip-path=\"url(#pbb7bc47831)\" style=\"fill: #f46d43; stroke: #ffffff; stroke-width: 0.5\"/>\n",
       "    <path d=\"M 7.2 279.36 \n",
       "L 37.44 279.36 \n",
       "L 37.44 309.6 \n",
       "L 7.2 309.6 \n",
       "L 7.2 279.36 \n",
       "\" clip-path=\"url(#pbb7bc47831)\" style=\"fill: #d62f27; stroke: #ffffff; stroke-width: 0.5\"/>\n",
       "    <path d=\"M 7.2 309.6 \n",
       "L 37.44 309.6 \n",
       "L 37.44 339.84 \n",
       "L 7.2 339.84 \n",
       "L 7.2 309.6 \n",
       "\" clip-path=\"url(#pbb7bc47831)\" style=\"fill: #a50026; stroke: #ffffff; stroke-width: 0.5\"/>\n",
       "   </g>\n",
       "   <g id=\"matplotlib.axis_1\"/>\n",
       "   <g id=\"matplotlib.axis_2\"/>\n",
       "   <g id=\"text_1\">\n",
       "    <!-- -5 -->\n",
       "    <g style=\"fill: #ffffff\" transform=\"translate(17.334844 25.079375) scale(0.1 -0.1)\">\n",
       "     <defs>\n",
       "      <path id=\"DejaVuSans-2d\" d=\"M 313 2009 \n",
       "L 1997 2009 \n",
       "L 1997 1497 \n",
       "L 313 1497 \n",
       "L 313 2009 \n",
       "z\n",
       "\" transform=\"scale(0.015625)\"/>\n",
       "      <path id=\"DejaVuSans-35\" d=\"M 691 4666 \n",
       "L 3169 4666 \n",
       "L 3169 4134 \n",
       "L 1269 4134 \n",
       "L 1269 2991 \n",
       "Q 1406 3038 1543 3061 \n",
       "Q 1681 3084 1819 3084 \n",
       "Q 2600 3084 3056 2656 \n",
       "Q 3513 2228 3513 1497 \n",
       "Q 3513 744 3044 326 \n",
       "Q 2575 -91 1722 -91 \n",
       "Q 1428 -91 1123 -41 \n",
       "Q 819 9 494 109 \n",
       "L 494 744 \n",
       "Q 775 591 1075 516 \n",
       "Q 1375 441 1709 441 \n",
       "Q 2250 441 2565 725 \n",
       "Q 2881 1009 2881 1497 \n",
       "Q 2881 1984 2565 2268 \n",
       "Q 2250 2553 1709 2553 \n",
       "Q 1456 2553 1204 2497 \n",
       "Q 953 2441 691 2322 \n",
       "L 691 4666 \n",
       "z\n",
       "\" transform=\"scale(0.015625)\"/>\n",
       "     </defs>\n",
       "     <use xlink:href=\"#DejaVuSans-2d\"/>\n",
       "     <use xlink:href=\"#DejaVuSans-35\" x=\"36.083984\"/>\n",
       "    </g>\n",
       "   </g>\n",
       "   <g id=\"text_2\">\n",
       "    <!-- -4 -->\n",
       "    <g style=\"fill: #ffffff\" transform=\"translate(17.334844 55.319375) scale(0.1 -0.1)\">\n",
       "     <defs>\n",
       "      <path id=\"DejaVuSans-34\" d=\"M 2419 4116 \n",
       "L 825 1625 \n",
       "L 2419 1625 \n",
       "L 2419 4116 \n",
       "z\n",
       "M 2253 4666 \n",
       "L 3047 4666 \n",
       "L 3047 1625 \n",
       "L 3713 1625 \n",
       "L 3713 1100 \n",
       "L 3047 1100 \n",
       "L 3047 0 \n",
       "L 2419 0 \n",
       "L 2419 1100 \n",
       "L 313 1100 \n",
       "L 313 1709 \n",
       "L 2253 4666 \n",
       "z\n",
       "\" transform=\"scale(0.015625)\"/>\n",
       "     </defs>\n",
       "     <use xlink:href=\"#DejaVuSans-2d\"/>\n",
       "     <use xlink:href=\"#DejaVuSans-34\" x=\"36.083984\"/>\n",
       "    </g>\n",
       "   </g>\n",
       "   <g id=\"text_3\">\n",
       "    <!-- -3 -->\n",
       "    <g style=\"fill: #ffffff\" transform=\"translate(17.334844 85.559375) scale(0.1 -0.1)\">\n",
       "     <defs>\n",
       "      <path id=\"DejaVuSans-33\" d=\"M 2597 2516 \n",
       "Q 3050 2419 3304 2112 \n",
       "Q 3559 1806 3559 1356 \n",
       "Q 3559 666 3084 287 \n",
       "Q 2609 -91 1734 -91 \n",
       "Q 1441 -91 1130 -33 \n",
       "Q 819 25 488 141 \n",
       "L 488 750 \n",
       "Q 750 597 1062 519 \n",
       "Q 1375 441 1716 441 \n",
       "Q 2309 441 2620 675 \n",
       "Q 2931 909 2931 1356 \n",
       "Q 2931 1769 2642 2001 \n",
       "Q 2353 2234 1838 2234 \n",
       "L 1294 2234 \n",
       "L 1294 2753 \n",
       "L 1863 2753 \n",
       "Q 2328 2753 2575 2939 \n",
       "Q 2822 3125 2822 3475 \n",
       "Q 2822 3834 2567 4026 \n",
       "Q 2313 4219 1838 4219 \n",
       "Q 1578 4219 1281 4162 \n",
       "Q 984 4106 628 3988 \n",
       "L 628 4550 \n",
       "Q 988 4650 1302 4700 \n",
       "Q 1616 4750 1894 4750 \n",
       "Q 2613 4750 3031 4423 \n",
       "Q 3450 4097 3450 3541 \n",
       "Q 3450 3153 3228 2886 \n",
       "Q 3006 2619 2597 2516 \n",
       "z\n",
       "\" transform=\"scale(0.015625)\"/>\n",
       "     </defs>\n",
       "     <use xlink:href=\"#DejaVuSans-2d\"/>\n",
       "     <use xlink:href=\"#DejaVuSans-33\" x=\"36.083984\"/>\n",
       "    </g>\n",
       "   </g>\n",
       "   <g id=\"text_4\">\n",
       "    <!-- -2 -->\n",
       "    <g style=\"fill: #262626\" transform=\"translate(17.334844 115.799375) scale(0.1 -0.1)\">\n",
       "     <defs>\n",
       "      <path id=\"DejaVuSans-32\" d=\"M 1228 531 \n",
       "L 3431 531 \n",
       "L 3431 0 \n",
       "L 469 0 \n",
       "L 469 531 \n",
       "Q 828 903 1448 1529 \n",
       "Q 2069 2156 2228 2338 \n",
       "Q 2531 2678 2651 2914 \n",
       "Q 2772 3150 2772 3378 \n",
       "Q 2772 3750 2511 3984 \n",
       "Q 2250 4219 1831 4219 \n",
       "Q 1534 4219 1204 4116 \n",
       "Q 875 4013 500 3803 \n",
       "L 500 4441 \n",
       "Q 881 4594 1212 4672 \n",
       "Q 1544 4750 1819 4750 \n",
       "Q 2544 4750 2975 4387 \n",
       "Q 3406 4025 3406 3419 \n",
       "Q 3406 3131 3298 2873 \n",
       "Q 3191 2616 2906 2266 \n",
       "Q 2828 2175 2409 1742 \n",
       "Q 1991 1309 1228 531 \n",
       "z\n",
       "\" transform=\"scale(0.015625)\"/>\n",
       "     </defs>\n",
       "     <use xlink:href=\"#DejaVuSans-2d\"/>\n",
       "     <use xlink:href=\"#DejaVuSans-32\" x=\"36.083984\"/>\n",
       "    </g>\n",
       "   </g>\n",
       "   <g id=\"text_5\">\n",
       "    <!-- -1 -->\n",
       "    <g style=\"fill: #262626\" transform=\"translate(17.334844 146.039375) scale(0.1 -0.1)\">\n",
       "     <defs>\n",
       "      <path id=\"DejaVuSans-31\" d=\"M 794 531 \n",
       "L 1825 531 \n",
       "L 1825 4091 \n",
       "L 703 3866 \n",
       "L 703 4441 \n",
       "L 1819 4666 \n",
       "L 2450 4666 \n",
       "L 2450 531 \n",
       "L 3481 531 \n",
       "L 3481 0 \n",
       "L 794 0 \n",
       "L 794 531 \n",
       "z\n",
       "\" transform=\"scale(0.015625)\"/>\n",
       "     </defs>\n",
       "     <use xlink:href=\"#DejaVuSans-2d\"/>\n",
       "     <use xlink:href=\"#DejaVuSans-31\" x=\"36.083984\"/>\n",
       "    </g>\n",
       "   </g>\n",
       "   <g id=\"text_6\">\n",
       "    <!-- 0 -->\n",
       "    <g style=\"fill: #262626\" transform=\"translate(19.13875 176.279375) scale(0.1 -0.1)\">\n",
       "     <defs>\n",
       "      <path id=\"DejaVuSans-30\" d=\"M 2034 4250 \n",
       "Q 1547 4250 1301 3770 \n",
       "Q 1056 3291 1056 2328 \n",
       "Q 1056 1369 1301 889 \n",
       "Q 1547 409 2034 409 \n",
       "Q 2525 409 2770 889 \n",
       "Q 3016 1369 3016 2328 \n",
       "Q 3016 3291 2770 3770 \n",
       "Q 2525 4250 2034 4250 \n",
       "z\n",
       "M 2034 4750 \n",
       "Q 2819 4750 3233 4129 \n",
       "Q 3647 3509 3647 2328 \n",
       "Q 3647 1150 3233 529 \n",
       "Q 2819 -91 2034 -91 \n",
       "Q 1250 -91 836 529 \n",
       "Q 422 1150 422 2328 \n",
       "Q 422 3509 836 4129 \n",
       "Q 1250 4750 2034 4750 \n",
       "z\n",
       "\" transform=\"scale(0.015625)\"/>\n",
       "     </defs>\n",
       "     <use xlink:href=\"#DejaVuSans-30\"/>\n",
       "    </g>\n",
       "   </g>\n",
       "   <g id=\"text_7\">\n",
       "    <!-- 1 -->\n",
       "    <g style=\"fill: #262626\" transform=\"translate(19.13875 206.519375) scale(0.1 -0.1)\">\n",
       "     <use xlink:href=\"#DejaVuSans-31\"/>\n",
       "    </g>\n",
       "   </g>\n",
       "   <g id=\"text_8\">\n",
       "    <!-- 2 -->\n",
       "    <g style=\"fill: #262626\" transform=\"translate(19.13875 236.759375) scale(0.1 -0.1)\">\n",
       "     <use xlink:href=\"#DejaVuSans-32\"/>\n",
       "    </g>\n",
       "   </g>\n",
       "   <g id=\"text_9\">\n",
       "    <!-- 3 -->\n",
       "    <g style=\"fill: #ffffff\" transform=\"translate(19.13875 266.999375) scale(0.1 -0.1)\">\n",
       "     <use xlink:href=\"#DejaVuSans-33\"/>\n",
       "    </g>\n",
       "   </g>\n",
       "   <g id=\"text_10\">\n",
       "    <!-- 4 -->\n",
       "    <g style=\"fill: #ffffff\" transform=\"translate(19.13875 297.239375) scale(0.1 -0.1)\">\n",
       "     <use xlink:href=\"#DejaVuSans-34\"/>\n",
       "    </g>\n",
       "   </g>\n",
       "   <g id=\"text_11\">\n",
       "    <!-- 5 -->\n",
       "    <g style=\"fill: #ffffff\" transform=\"translate(19.13875 327.479375) scale(0.1 -0.1)\">\n",
       "     <use xlink:href=\"#DejaVuSans-35\"/>\n",
       "    </g>\n",
       "   </g>\n",
       "  </g>\n",
       " </g>\n",
       " <defs>\n",
       "  <clipPath id=\"pbb7bc47831\">\n",
       "   <rect x=\"7.2\" y=\"7.2\" width=\"30.24\" height=\"332.64\"/>\n",
       "  </clipPath>\n",
       " </defs>\n",
       "</svg>\n"
      ],
      "text/plain": [
       "<Figure size 100x600 with 1 Axes>"
      ]
     },
     "metadata": {},
     "output_type": "display_data"
    }
   ],
   "source": [
    "visualize_2D(a_1D_array[:, np.newaxis], '列向量', 5, -5)"
   ]
  },
  {
   "cell_type": "code",
   "execution_count": 33,
   "id": "acc5b913-1640-41fc-a74c-c4fe89e1be4d",
   "metadata": {},
   "outputs": [
    {
     "data": {
      "text/plain": [
       "2"
      ]
     },
     "execution_count": 33,
     "metadata": {},
     "output_type": "execute_result"
    }
   ],
   "source": [
    "a_1D_array[:, np.newaxis].ndim"
   ]
  },
  {
   "cell_type": "code",
   "execution_count": 34,
   "id": "79f316fb-0ef7-404c-a4f4-ce5fddcbd295",
   "metadata": {},
   "outputs": [
    {
     "data": {
      "text/plain": [
       "array([[-5],\n",
       "       [-4],\n",
       "       [-3],\n",
       "       [-2],\n",
       "       [-1],\n",
       "       [ 0],\n",
       "       [ 1],\n",
       "       [ 2],\n",
       "       [ 3],\n",
       "       [ 4],\n",
       "       [ 5]])"
      ]
     },
     "execution_count": 34,
     "metadata": {},
     "output_type": "execute_result"
    }
   ],
   "source": [
    "a_1D_array[:, None]"
   ]
  },
  {
   "cell_type": "code",
   "execution_count": 35,
   "id": "88399755-f6b5-4ab0-bd16-b9e934a3d117",
   "metadata": {},
   "outputs": [
    {
     "data": {
      "text/plain": [
       "array([[-5],\n",
       "       [-4],\n",
       "       [-3],\n",
       "       [-2],\n",
       "       [-1],\n",
       "       [ 0],\n",
       "       [ 1],\n",
       "       [ 2],\n",
       "       [ 3],\n",
       "       [ 4],\n",
       "       [ 5]])"
      ]
     },
     "execution_count": 35,
     "metadata": {},
     "output_type": "execute_result"
    }
   ],
   "source": [
    "a_1D_array.reshape(-1,1)"
   ]
  },
  {
   "cell_type": "markdown",
   "id": "4d0de3e9",
   "metadata": {},
   "source": [
    "\n",
    "\n",
    "这行代码使用`numpy`库中的`reshape()`函数将一维数组`a_1D_array`转换为二维数组。其中，`-1`表示自动计算数组的行数，`1`表示数组的列数为1。这样，`a_1D_array`就被转换为了一个n行1列的二维数组，其中n为`a_1D_array`的长度。"
   ]
  },
  {
   "cell_type": "code",
   "execution_count": 36,
   "id": "915e76ce-2413-4c8f-8287-18d8dfdc40ba",
   "metadata": {},
   "outputs": [
    {
     "data": {
      "text/plain": [
       "array([-5, -4, -3, -2, -1,  0,  1,  2,  3,  4,  5])"
      ]
     },
     "execution_count": 36,
     "metadata": {},
     "output_type": "execute_result"
    }
   ],
   "source": [
    "a_1D_array[:, np.newaxis].squeeze()\n",
    "# 二维到一维"
   ]
  },
  {
   "cell_type": "code",
   "execution_count": 37,
   "id": "444d9c32-7f4c-4d67-92a4-7fa6bab2fbe4",
   "metadata": {},
   "outputs": [
    {
     "data": {
      "text/plain": [
       "array([[-5, -4, -3, -2, -1,  0,  1,  2,  3,  4,  5]])"
      ]
     },
     "execution_count": 37,
     "metadata": {},
     "output_type": "execute_result"
    }
   ],
   "source": [
    "# 转为行向量\n",
    "a_1D_array[np.newaxis, :]"
   ]
  },
  {
   "cell_type": "code",
   "execution_count": 38,
   "id": "563db4d9-8a94-4ea8-954a-8d907e7a8849",
   "metadata": {},
   "outputs": [
    {
     "data": {
      "image/svg+xml": [
       "<?xml version=\"1.0\" encoding=\"utf-8\" standalone=\"no\"?>\n",
       "<!DOCTYPE svg PUBLIC \"-//W3C//DTD SVG 1.1//EN\"\n",
       "  \"http://www.w3.org/Graphics/SVG/1.1/DTD/svg11.dtd\">\n",
       "<svg xmlns:xlink=\"http://www.w3.org/1999/xlink\" width=\"349.2pt\" height=\"44.836364pt\" viewBox=\"0 0 349.2 44.836364\" xmlns=\"http://www.w3.org/2000/svg\" version=\"1.1\">\n",
       " <metadata>\n",
       "  <rdf:RDF xmlns:dc=\"http://purl.org/dc/elements/1.1/\" xmlns:cc=\"http://creativecommons.org/ns#\" xmlns:rdf=\"http://www.w3.org/1999/02/22-rdf-syntax-ns#\">\n",
       "   <cc:Work>\n",
       "    <dc:type rdf:resource=\"http://purl.org/dc/dcmitype/StillImage\"/>\n",
       "    <dc:date>2023-08-15T16:16:31.983017</dc:date>\n",
       "    <dc:format>image/svg+xml</dc:format>\n",
       "    <dc:creator>\n",
       "     <cc:Agent>\n",
       "      <dc:title>Matplotlib v3.7.1, https://matplotlib.org/</dc:title>\n",
       "     </cc:Agent>\n",
       "    </dc:creator>\n",
       "   </cc:Work>\n",
       "  </rdf:RDF>\n",
       " </metadata>\n",
       " <defs>\n",
       "  <style type=\"text/css\">*{stroke-linejoin: round; stroke-linecap: butt}</style>\n",
       " </defs>\n",
       " <g id=\"figure_1\">\n",
       "  <g id=\"patch_1\">\n",
       "   <path d=\"M 0 44.836364 \n",
       "L 349.2 44.836364 \n",
       "L 349.2 0 \n",
       "L 0 0 \n",
       "z\n",
       "\" style=\"fill: #ffffff\"/>\n",
       "  </g>\n",
       "  <g id=\"axes_1\">\n",
       "   <g id=\"patch_2\">\n",
       "    <path d=\"M 7.2 37.636364 \n",
       "L 342 37.636364 \n",
       "L 342 7.2 \n",
       "L 7.2 7.2 \n",
       "z\n",
       "\" style=\"fill: #ffffff\"/>\n",
       "   </g>\n",
       "   <g id=\"QuadMesh_1\">\n",
       "    <path d=\"M 7.2 7.2 \n",
       "L 37.636364 7.2 \n",
       "L 37.636364 37.636364 \n",
       "L 7.2 37.636364 \n",
       "L 7.2 7.2 \n",
       "\" clip-path=\"url(#p9f8a83f6f5)\" style=\"fill: #313695; stroke: #ffffff; stroke-width: 0.5\"/>\n",
       "    <path d=\"M 37.636364 7.2 \n",
       "L 68.072727 7.2 \n",
       "L 68.072727 37.636364 \n",
       "L 37.636364 37.636364 \n",
       "L 37.636364 7.2 \n",
       "\" clip-path=\"url(#p9f8a83f6f5)\" style=\"fill: #4574b3; stroke: #ffffff; stroke-width: 0.5\"/>\n",
       "    <path d=\"M 68.072727 7.2 \n",
       "L 98.509091 7.2 \n",
       "L 98.509091 37.636364 \n",
       "L 68.072727 37.636364 \n",
       "L 68.072727 7.2 \n",
       "\" clip-path=\"url(#p9f8a83f6f5)\" style=\"fill: #74add1; stroke: #ffffff; stroke-width: 0.5\"/>\n",
       "    <path d=\"M 98.509091 7.2 \n",
       "L 128.945455 7.2 \n",
       "L 128.945455 37.636364 \n",
       "L 98.509091 37.636364 \n",
       "L 98.509091 7.2 \n",
       "\" clip-path=\"url(#p9f8a83f6f5)\" style=\"fill: #aad8e9; stroke: #ffffff; stroke-width: 0.5\"/>\n",
       "    <path d=\"M 128.945455 7.2 \n",
       "L 159.381818 7.2 \n",
       "L 159.381818 37.636364 \n",
       "L 128.945455 37.636364 \n",
       "L 128.945455 7.2 \n",
       "\" clip-path=\"url(#p9f8a83f6f5)\" style=\"fill: #e0f3f8; stroke: #ffffff; stroke-width: 0.5\"/>\n",
       "    <path d=\"M 159.381818 7.2 \n",
       "L 189.818182 7.2 \n",
       "L 189.818182 37.636364 \n",
       "L 159.381818 37.636364 \n",
       "L 159.381818 7.2 \n",
       "\" clip-path=\"url(#p9f8a83f6f5)\" style=\"fill: #fffebe; stroke: #ffffff; stroke-width: 0.5\"/>\n",
       "    <path d=\"M 189.818182 7.2 \n",
       "L 220.254545 7.2 \n",
       "L 220.254545 37.636364 \n",
       "L 189.818182 37.636364 \n",
       "L 189.818182 7.2 \n",
       "\" clip-path=\"url(#p9f8a83f6f5)\" style=\"fill: #fee090; stroke: #ffffff; stroke-width: 0.5\"/>\n",
       "    <path d=\"M 220.254545 7.2 \n",
       "L 250.690909 7.2 \n",
       "L 250.690909 37.636364 \n",
       "L 220.254545 37.636364 \n",
       "L 220.254545 7.2 \n",
       "\" clip-path=\"url(#p9f8a83f6f5)\" style=\"fill: #fdad60; stroke: #ffffff; stroke-width: 0.5\"/>\n",
       "    <path d=\"M 250.690909 7.2 \n",
       "L 281.127273 7.2 \n",
       "L 281.127273 37.636364 \n",
       "L 250.690909 37.636364 \n",
       "L 250.690909 7.2 \n",
       "\" clip-path=\"url(#p9f8a83f6f5)\" style=\"fill: #f46d43; stroke: #ffffff; stroke-width: 0.5\"/>\n",
       "    <path d=\"M 281.127273 7.2 \n",
       "L 311.563636 7.2 \n",
       "L 311.563636 37.636364 \n",
       "L 281.127273 37.636364 \n",
       "L 281.127273 7.2 \n",
       "\" clip-path=\"url(#p9f8a83f6f5)\" style=\"fill: #d62f27; stroke: #ffffff; stroke-width: 0.5\"/>\n",
       "    <path d=\"M 311.563636 7.2 \n",
       "L 342 7.2 \n",
       "L 342 37.636364 \n",
       "L 311.563636 37.636364 \n",
       "L 311.563636 7.2 \n",
       "\" clip-path=\"url(#p9f8a83f6f5)\" style=\"fill: #a50026; stroke: #ffffff; stroke-width: 0.5\"/>\n",
       "   </g>\n",
       "   <g id=\"matplotlib.axis_1\"/>\n",
       "   <g id=\"matplotlib.axis_2\"/>\n",
       "   <g id=\"text_1\">\n",
       "    <!-- -5 -->\n",
       "    <g style=\"fill: #ffffff\" transform=\"translate(17.433026 25.177557) scale(0.1 -0.1)\">\n",
       "     <defs>\n",
       "      <path id=\"DejaVuSans-2d\" d=\"M 313 2009 \n",
       "L 1997 2009 \n",
       "L 1997 1497 \n",
       "L 313 1497 \n",
       "L 313 2009 \n",
       "z\n",
       "\" transform=\"scale(0.015625)\"/>\n",
       "      <path id=\"DejaVuSans-35\" d=\"M 691 4666 \n",
       "L 3169 4666 \n",
       "L 3169 4134 \n",
       "L 1269 4134 \n",
       "L 1269 2991 \n",
       "Q 1406 3038 1543 3061 \n",
       "Q 1681 3084 1819 3084 \n",
       "Q 2600 3084 3056 2656 \n",
       "Q 3513 2228 3513 1497 \n",
       "Q 3513 744 3044 326 \n",
       "Q 2575 -91 1722 -91 \n",
       "Q 1428 -91 1123 -41 \n",
       "Q 819 9 494 109 \n",
       "L 494 744 \n",
       "Q 775 591 1075 516 \n",
       "Q 1375 441 1709 441 \n",
       "Q 2250 441 2565 725 \n",
       "Q 2881 1009 2881 1497 \n",
       "Q 2881 1984 2565 2268 \n",
       "Q 2250 2553 1709 2553 \n",
       "Q 1456 2553 1204 2497 \n",
       "Q 953 2441 691 2322 \n",
       "L 691 4666 \n",
       "z\n",
       "\" transform=\"scale(0.015625)\"/>\n",
       "     </defs>\n",
       "     <use xlink:href=\"#DejaVuSans-2d\"/>\n",
       "     <use xlink:href=\"#DejaVuSans-35\" x=\"36.083984\"/>\n",
       "    </g>\n",
       "   </g>\n",
       "   <g id=\"text_2\">\n",
       "    <!-- -4 -->\n",
       "    <g style=\"fill: #ffffff\" transform=\"translate(47.869389 25.177557) scale(0.1 -0.1)\">\n",
       "     <defs>\n",
       "      <path id=\"DejaVuSans-34\" d=\"M 2419 4116 \n",
       "L 825 1625 \n",
       "L 2419 1625 \n",
       "L 2419 4116 \n",
       "z\n",
       "M 2253 4666 \n",
       "L 3047 4666 \n",
       "L 3047 1625 \n",
       "L 3713 1625 \n",
       "L 3713 1100 \n",
       "L 3047 1100 \n",
       "L 3047 0 \n",
       "L 2419 0 \n",
       "L 2419 1100 \n",
       "L 313 1100 \n",
       "L 313 1709 \n",
       "L 2253 4666 \n",
       "z\n",
       "\" transform=\"scale(0.015625)\"/>\n",
       "     </defs>\n",
       "     <use xlink:href=\"#DejaVuSans-2d\"/>\n",
       "     <use xlink:href=\"#DejaVuSans-34\" x=\"36.083984\"/>\n",
       "    </g>\n",
       "   </g>\n",
       "   <g id=\"text_3\">\n",
       "    <!-- -3 -->\n",
       "    <g style=\"fill: #ffffff\" transform=\"translate(78.305753 25.177557) scale(0.1 -0.1)\">\n",
       "     <defs>\n",
       "      <path id=\"DejaVuSans-33\" d=\"M 2597 2516 \n",
       "Q 3050 2419 3304 2112 \n",
       "Q 3559 1806 3559 1356 \n",
       "Q 3559 666 3084 287 \n",
       "Q 2609 -91 1734 -91 \n",
       "Q 1441 -91 1130 -33 \n",
       "Q 819 25 488 141 \n",
       "L 488 750 \n",
       "Q 750 597 1062 519 \n",
       "Q 1375 441 1716 441 \n",
       "Q 2309 441 2620 675 \n",
       "Q 2931 909 2931 1356 \n",
       "Q 2931 1769 2642 2001 \n",
       "Q 2353 2234 1838 2234 \n",
       "L 1294 2234 \n",
       "L 1294 2753 \n",
       "L 1863 2753 \n",
       "Q 2328 2753 2575 2939 \n",
       "Q 2822 3125 2822 3475 \n",
       "Q 2822 3834 2567 4026 \n",
       "Q 2313 4219 1838 4219 \n",
       "Q 1578 4219 1281 4162 \n",
       "Q 984 4106 628 3988 \n",
       "L 628 4550 \n",
       "Q 988 4650 1302 4700 \n",
       "Q 1616 4750 1894 4750 \n",
       "Q 2613 4750 3031 4423 \n",
       "Q 3450 4097 3450 3541 \n",
       "Q 3450 3153 3228 2886 \n",
       "Q 3006 2619 2597 2516 \n",
       "z\n",
       "\" transform=\"scale(0.015625)\"/>\n",
       "     </defs>\n",
       "     <use xlink:href=\"#DejaVuSans-2d\"/>\n",
       "     <use xlink:href=\"#DejaVuSans-33\" x=\"36.083984\"/>\n",
       "    </g>\n",
       "   </g>\n",
       "   <g id=\"text_4\">\n",
       "    <!-- -2 -->\n",
       "    <g style=\"fill: #262626\" transform=\"translate(108.742116 25.177557) scale(0.1 -0.1)\">\n",
       "     <defs>\n",
       "      <path id=\"DejaVuSans-32\" d=\"M 1228 531 \n",
       "L 3431 531 \n",
       "L 3431 0 \n",
       "L 469 0 \n",
       "L 469 531 \n",
       "Q 828 903 1448 1529 \n",
       "Q 2069 2156 2228 2338 \n",
       "Q 2531 2678 2651 2914 \n",
       "Q 2772 3150 2772 3378 \n",
       "Q 2772 3750 2511 3984 \n",
       "Q 2250 4219 1831 4219 \n",
       "Q 1534 4219 1204 4116 \n",
       "Q 875 4013 500 3803 \n",
       "L 500 4441 \n",
       "Q 881 4594 1212 4672 \n",
       "Q 1544 4750 1819 4750 \n",
       "Q 2544 4750 2975 4387 \n",
       "Q 3406 4025 3406 3419 \n",
       "Q 3406 3131 3298 2873 \n",
       "Q 3191 2616 2906 2266 \n",
       "Q 2828 2175 2409 1742 \n",
       "Q 1991 1309 1228 531 \n",
       "z\n",
       "\" transform=\"scale(0.015625)\"/>\n",
       "     </defs>\n",
       "     <use xlink:href=\"#DejaVuSans-2d\"/>\n",
       "     <use xlink:href=\"#DejaVuSans-32\" x=\"36.083984\"/>\n",
       "    </g>\n",
       "   </g>\n",
       "   <g id=\"text_5\">\n",
       "    <!-- -1 -->\n",
       "    <g style=\"fill: #262626\" transform=\"translate(139.17848 25.177557) scale(0.1 -0.1)\">\n",
       "     <defs>\n",
       "      <path id=\"DejaVuSans-31\" d=\"M 794 531 \n",
       "L 1825 531 \n",
       "L 1825 4091 \n",
       "L 703 3866 \n",
       "L 703 4441 \n",
       "L 1819 4666 \n",
       "L 2450 4666 \n",
       "L 2450 531 \n",
       "L 3481 531 \n",
       "L 3481 0 \n",
       "L 794 0 \n",
       "L 794 531 \n",
       "z\n",
       "\" transform=\"scale(0.015625)\"/>\n",
       "     </defs>\n",
       "     <use xlink:href=\"#DejaVuSans-2d\"/>\n",
       "     <use xlink:href=\"#DejaVuSans-31\" x=\"36.083984\"/>\n",
       "    </g>\n",
       "   </g>\n",
       "   <g id=\"text_6\">\n",
       "    <!-- 0 -->\n",
       "    <g style=\"fill: #262626\" transform=\"translate(171.41875 25.177557) scale(0.1 -0.1)\">\n",
       "     <defs>\n",
       "      <path id=\"DejaVuSans-30\" d=\"M 2034 4250 \n",
       "Q 1547 4250 1301 3770 \n",
       "Q 1056 3291 1056 2328 \n",
       "Q 1056 1369 1301 889 \n",
       "Q 1547 409 2034 409 \n",
       "Q 2525 409 2770 889 \n",
       "Q 3016 1369 3016 2328 \n",
       "Q 3016 3291 2770 3770 \n",
       "Q 2525 4250 2034 4250 \n",
       "z\n",
       "M 2034 4750 \n",
       "Q 2819 4750 3233 4129 \n",
       "Q 3647 3509 3647 2328 \n",
       "Q 3647 1150 3233 529 \n",
       "Q 2819 -91 2034 -91 \n",
       "Q 1250 -91 836 529 \n",
       "Q 422 1150 422 2328 \n",
       "Q 422 3509 836 4129 \n",
       "Q 1250 4750 2034 4750 \n",
       "z\n",
       "\" transform=\"scale(0.015625)\"/>\n",
       "     </defs>\n",
       "     <use xlink:href=\"#DejaVuSans-30\"/>\n",
       "    </g>\n",
       "   </g>\n",
       "   <g id=\"text_7\">\n",
       "    <!-- 1 -->\n",
       "    <g style=\"fill: #262626\" transform=\"translate(201.855114 25.177557) scale(0.1 -0.1)\">\n",
       "     <use xlink:href=\"#DejaVuSans-31\"/>\n",
       "    </g>\n",
       "   </g>\n",
       "   <g id=\"text_8\">\n",
       "    <!-- 2 -->\n",
       "    <g style=\"fill: #262626\" transform=\"translate(232.291477 25.177557) scale(0.1 -0.1)\">\n",
       "     <use xlink:href=\"#DejaVuSans-32\"/>\n",
       "    </g>\n",
       "   </g>\n",
       "   <g id=\"text_9\">\n",
       "    <!-- 3 -->\n",
       "    <g style=\"fill: #ffffff\" transform=\"translate(262.727841 25.177557) scale(0.1 -0.1)\">\n",
       "     <use xlink:href=\"#DejaVuSans-33\"/>\n",
       "    </g>\n",
       "   </g>\n",
       "   <g id=\"text_10\">\n",
       "    <!-- 4 -->\n",
       "    <g style=\"fill: #ffffff\" transform=\"translate(293.164205 25.177557) scale(0.1 -0.1)\">\n",
       "     <use xlink:href=\"#DejaVuSans-34\"/>\n",
       "    </g>\n",
       "   </g>\n",
       "   <g id=\"text_11\">\n",
       "    <!-- 5 -->\n",
       "    <g style=\"fill: #ffffff\" transform=\"translate(323.600568 25.177557) scale(0.1 -0.1)\">\n",
       "     <use xlink:href=\"#DejaVuSans-35\"/>\n",
       "    </g>\n",
       "   </g>\n",
       "  </g>\n",
       " </g>\n",
       " <defs>\n",
       "  <clipPath id=\"p9f8a83f6f5\">\n",
       "   <rect x=\"7.2\" y=\"7.2\" width=\"334.8\" height=\"30.436364\"/>\n",
       "  </clipPath>\n",
       " </defs>\n",
       "</svg>\n"
      ],
      "text/plain": [
       "<Figure size 600x100 with 1 Axes>"
      ]
     },
     "metadata": {},
     "output_type": "display_data"
    }
   ],
   "source": [
    "visualize_2D(a_1D_array[np.newaxis, :], '行向量', 5, -5)"
   ]
  },
  {
   "cell_type": "code",
   "execution_count": 22,
   "id": "ad20dbfa-6950-4fba-b190-46f331e5b8f3",
   "metadata": {},
   "outputs": [
    {
     "data": {
      "text/plain": [
       "array([[-5, -4, -3, -2, -1,  0,  1,  2,  3,  4,  5]])"
      ]
     },
     "execution_count": 22,
     "metadata": {},
     "output_type": "execute_result"
    }
   ],
   "source": [
    "a_1D_array[None, :]"
   ]
  },
  {
   "cell_type": "code",
   "execution_count": 23,
   "id": "464763cf-5ad6-4733-92a6-bb67f74cf42f",
   "metadata": {},
   "outputs": [
    {
     "data": {
      "text/plain": [
       "array([[-5, -4, -3, -2, -1,  0,  1,  2,  3,  4,  5]])"
      ]
     },
     "execution_count": 23,
     "metadata": {},
     "output_type": "execute_result"
    }
   ],
   "source": [
    "a_1D_array.reshape(1,-1)"
   ]
  },
  {
   "cell_type": "code",
   "execution_count": 24,
   "id": "e4f67f0e-af7c-485f-86d4-f56dd0c83f17",
   "metadata": {},
   "outputs": [
    {
     "data": {
      "text/plain": [
       "array([[110]])"
      ]
     },
     "execution_count": 24,
     "metadata": {},
     "output_type": "execute_result"
    }
   ],
   "source": [
    "a_1D_array[np.newaxis, :] @ a_1D_array[:, np.newaxis]"
   ]
  },
  {
   "cell_type": "code",
   "execution_count": 25,
   "id": "9b9362a2-0f39-4e0c-8703-574514f2ed73",
   "metadata": {},
   "outputs": [
    {
     "data": {
      "text/plain": [
       "array([[ 25,  20,  15,  10,   5,   0,  -5, -10, -15, -20, -25],\n",
       "       [ 20,  16,  12,   8,   4,   0,  -4,  -8, -12, -16, -20],\n",
       "       [ 15,  12,   9,   6,   3,   0,  -3,  -6,  -9, -12, -15],\n",
       "       [ 10,   8,   6,   4,   2,   0,  -2,  -4,  -6,  -8, -10],\n",
       "       [  5,   4,   3,   2,   1,   0,  -1,  -2,  -3,  -4,  -5],\n",
       "       [  0,   0,   0,   0,   0,   0,   0,   0,   0,   0,   0],\n",
       "       [ -5,  -4,  -3,  -2,  -1,   0,   1,   2,   3,   4,   5],\n",
       "       [-10,  -8,  -6,  -4,  -2,   0,   2,   4,   6,   8,  10],\n",
       "       [-15, -12,  -9,  -6,  -3,   0,   3,   6,   9,  12,  15],\n",
       "       [-20, -16, -12,  -8,  -4,   0,   4,   8,  12,  16,  20],\n",
       "       [-25, -20, -15, -10,  -5,   0,   5,  10,  15,  20,  25]])"
      ]
     },
     "execution_count": 25,
     "metadata": {},
     "output_type": "execute_result"
    }
   ],
   "source": [
    "a_1D_array[:, np.newaxis] @ a_1D_array[np.newaxis, :]"
   ]
  },
  {
   "cell_type": "code",
   "execution_count": 26,
   "id": "1152b829-bef5-45a6-9821-f1be7c68ef00",
   "metadata": {},
   "outputs": [
    {
     "data": {
      "text/plain": [
       "array([[[-5]],\n",
       "\n",
       "       [[-4]],\n",
       "\n",
       "       [[-3]],\n",
       "\n",
       "       [[-2]],\n",
       "\n",
       "       [[-1]],\n",
       "\n",
       "       [[ 0]],\n",
       "\n",
       "       [[ 1]],\n",
       "\n",
       "       [[ 2]],\n",
       "\n",
       "       [[ 3]],\n",
       "\n",
       "       [[ 4]],\n",
       "\n",
       "       [[ 5]]])"
      ]
     },
     "execution_count": 26,
     "metadata": {},
     "output_type": "execute_result"
    }
   ],
   "source": [
    "a_1D_array[:, np.newaxis, np.newaxis]\n",
    "# 三维"
   ]
  },
  {
   "cell_type": "code",
   "execution_count": 27,
   "id": "17a38281-fb60-4736-89d9-36d343e50c49",
   "metadata": {},
   "outputs": [
    {
     "data": {
      "text/plain": [
       "array([-5, -4, -3, -2, -1,  0,  1,  2,  3,  4,  5])"
      ]
     },
     "execution_count": 27,
     "metadata": {},
     "output_type": "execute_result"
    }
   ],
   "source": [
    "a_1D_array[:, np.newaxis, np.newaxis].squeeze()\n",
    "# 从三维到一维"
   ]
  },
  {
   "cell_type": "markdown",
   "id": "b8ff04c9-f7be-43af-bb83-5e432ba22978",
   "metadata": {},
   "source": [
    "### 切片"
   ]
  },
  {
   "cell_type": "markdown",
   "id": "5e71e92c-499f-4d35-adce-fd5f8eb834e0",
   "metadata": {},
   "source": [
    "#### 获取数组中的前三个元素"
   ]
  },
  {
   "cell_type": "code",
   "execution_count": 28,
   "id": "fdb1a1ff-a34b-4114-b71b-7aae79ef51af",
   "metadata": {},
   "outputs": [
    {
     "data": {
      "text/plain": [
       "array([-5, -4, -3])"
      ]
     },
     "execution_count": 28,
     "metadata": {},
     "output_type": "execute_result"
    }
   ],
   "source": [
    "a_1D_array[:3]"
   ]
  },
  {
   "cell_type": "code",
   "execution_count": 29,
   "id": "1a922903-51d3-4a0d-96a9-e50ff0e0de86",
   "metadata": {},
   "outputs": [
    {
     "data": {
      "text/plain": [
       "array([-5, -4, -3])"
      ]
     },
     "execution_count": 29,
     "metadata": {},
     "output_type": "execute_result"
    }
   ],
   "source": [
    "a_1D_array[0:3]"
   ]
  },
  {
   "cell_type": "code",
   "execution_count": 30,
   "id": "79184273-b17d-4310-8a9e-bd78846758b3",
   "metadata": {},
   "outputs": [
    {
     "data": {
      "text/plain": [
       "array([-5, -4, -3])"
      ]
     },
     "execution_count": 30,
     "metadata": {},
     "output_type": "execute_result"
    }
   ],
   "source": [
    "a_1D_array[[0, 1, 2]]"
   ]
  },
  {
   "cell_type": "markdown",
   "id": "2c138f46-ae8c-40e3-bf65-166a52abc70e",
   "metadata": {},
   "source": [
    "#### 获取数组中的第二个、三个元素"
   ]
  },
  {
   "cell_type": "code",
   "execution_count": 31,
   "id": "d46bd427-3b1c-451a-be1e-3e6f220b9da3",
   "metadata": {},
   "outputs": [
    {
     "data": {
      "text/plain": [
       "array([-4, -3])"
      ]
     },
     "execution_count": 31,
     "metadata": {},
     "output_type": "execute_result"
    }
   ],
   "source": [
    "a_1D_array[1:3]"
   ]
  },
  {
   "cell_type": "code",
   "execution_count": 32,
   "id": "85ce30d4-fa49-4a00-a53a-501cfe7542cd",
   "metadata": {},
   "outputs": [
    {
     "data": {
      "text/plain": [
       "array([-4, -3])"
      ]
     },
     "execution_count": 32,
     "metadata": {},
     "output_type": "execute_result"
    }
   ],
   "source": [
    "a_1D_array[[1, 2]]"
   ]
  },
  {
   "cell_type": "markdown",
   "id": "3cec9555-f2e8-42db-b914-843b43b01ee8",
   "metadata": {},
   "source": [
    "#### 获取数组中的最后三个元素"
   ]
  },
  {
   "cell_type": "code",
   "execution_count": 33,
   "id": "f0ca54fe-d0fa-482c-95f8-19ff13f0480d",
   "metadata": {},
   "outputs": [
    {
     "data": {
      "text/plain": [
       "array([3, 4, 5])"
      ]
     },
     "execution_count": 33,
     "metadata": {},
     "output_type": "execute_result"
    }
   ],
   "source": [
    "a_1D_array[-3:]"
   ]
  },
  {
   "cell_type": "code",
   "execution_count": 34,
   "id": "484bd3e7-5729-47ed-8970-3053f91a4bd7",
   "metadata": {},
   "outputs": [
    {
     "data": {
      "text/plain": [
       "array([3, 4, 5])"
      ]
     },
     "execution_count": 34,
     "metadata": {},
     "output_type": "execute_result"
    }
   ],
   "source": [
    "a_1D_array[8:]"
   ]
  },
  {
   "cell_type": "code",
   "execution_count": 35,
   "id": "2bcf1d49-cef6-43ab-9269-b4eaaef64fce",
   "metadata": {},
   "outputs": [
    {
     "data": {
      "text/plain": [
       "11"
      ]
     },
     "execution_count": 35,
     "metadata": {},
     "output_type": "execute_result"
    }
   ],
   "source": [
    "len(a_1D_array)"
   ]
  },
  {
   "cell_type": "code",
   "execution_count": 36,
   "id": "40376de6-6d01-475f-8571-882e9a74e180",
   "metadata": {},
   "outputs": [
    {
     "data": {
      "text/plain": [
       "array([3, 4, 5])"
      ]
     },
     "execution_count": 36,
     "metadata": {},
     "output_type": "execute_result"
    }
   ],
   "source": [
    "a_1D_array[len(a_1D_array)-3:]"
   ]
  },
  {
   "cell_type": "code",
   "execution_count": 37,
   "id": "244dc89d-03dd-45d1-bed0-6cce95d25f30",
   "metadata": {},
   "outputs": [
    {
     "data": {
      "text/plain": [
       "array([3, 4, 5])"
      ]
     },
     "execution_count": 37,
     "metadata": {},
     "output_type": "execute_result"
    }
   ],
   "source": [
    "a_1D_array[[-3, -2, -1]]"
   ]
  },
  {
   "cell_type": "markdown",
   "id": "f2ff92cc-ee66-466f-b2e2-735374285713",
   "metadata": {},
   "source": [
    "### 设定步长"
   ]
  },
  {
   "cell_type": "markdown",
   "id": "9920bbfd-7de1-48c7-a61c-0284a382bcd3",
   "metadata": {},
   "source": [
    "#### 取出所有奇数"
   ]
  },
  {
   "cell_type": "code",
   "execution_count": 38,
   "id": "29d71291-a59b-49ef-980d-314384d91d94",
   "metadata": {},
   "outputs": [
    {
     "data": {
      "text/plain": [
       "array([-5, -3, -1,  1,  3,  5])"
      ]
     },
     "execution_count": 38,
     "metadata": {},
     "output_type": "execute_result"
    }
   ],
   "source": [
    "a_1D_array[::2]"
   ]
  },
  {
   "cell_type": "code",
   "execution_count": 39,
   "id": "bdbec598-17ed-4bfb-aac2-1f3616242923",
   "metadata": {},
   "outputs": [
    {
     "data": {
      "text/plain": [
       "array([-5, -3, -1,  1,  3])"
      ]
     },
     "execution_count": 39,
     "metadata": {},
     "output_type": "execute_result"
    }
   ],
   "source": [
    "a_1D_array[0:-1:2]\n",
    "# 注意，这句代码取出的几个元素，包括第一个元素，但是不包括最后一个元素"
   ]
  },
  {
   "cell_type": "markdown",
   "id": "b72f17d5-fcd7-41ce-8ee1-a921a340e7c3",
   "metadata": {},
   "source": [
    "#### 取出所有偶数"
   ]
  },
  {
   "cell_type": "code",
   "execution_count": 40,
   "id": "f90abed7-3062-4015-bd68-5aa05ddbdab5",
   "metadata": {},
   "outputs": [
    {
     "data": {
      "text/plain": [
       "array([-4, -2,  0,  2,  4])"
      ]
     },
     "execution_count": 40,
     "metadata": {},
     "output_type": "execute_result"
    }
   ],
   "source": [
    "a_1D_array[1::2]"
   ]
  },
  {
   "cell_type": "markdown",
   "id": "be7e83bb-29df-4aa8-8986-d3db3a1bd870",
   "metadata": {},
   "source": [
    "#### 倒序"
   ]
  },
  {
   "cell_type": "code",
   "execution_count": 41,
   "id": "b9cc92da-3cd9-4659-b348-21bec1ff5212",
   "metadata": {},
   "outputs": [
    {
     "data": {
      "text/plain": [
       "array([ 5,  4,  3,  2,  1,  0, -1, -2, -3, -4, -5])"
      ]
     },
     "execution_count": 41,
     "metadata": {},
     "output_type": "execute_result"
    }
   ],
   "source": [
    "a_1D_array[::-1]"
   ]
  },
  {
   "cell_type": "code",
   "execution_count": 42,
   "id": "58ae06f2-f4cd-4032-a6bf-55245cab2e34",
   "metadata": {},
   "outputs": [
    {
     "data": {
      "text/plain": [
       "array([ 5,  3,  1, -1, -3, -5])"
      ]
     },
     "execution_count": 42,
     "metadata": {},
     "output_type": "execute_result"
    }
   ],
   "source": [
    "a_1D_array[::-2]"
   ]
  },
  {
   "cell_type": "code",
   "execution_count": 43,
   "id": "e13d5f2c-b8da-4cd4-833f-d7c8c59e5488",
   "metadata": {},
   "outputs": [
    {
     "data": {
      "text/plain": [
       "array([ 5,  4,  3,  2,  1,  0, -1, -2])"
      ]
     },
     "execution_count": 43,
     "metadata": {},
     "output_type": "execute_result"
    }
   ],
   "source": [
    "a_1D_array[-1:2:-1]"
   ]
  },
  {
   "cell_type": "code",
   "execution_count": 44,
   "id": "52e29253-c59e-4a76-bd97-66167cbc3f8c",
   "metadata": {},
   "outputs": [
    {
     "data": {
      "text/plain": [
       "array([ 5,  3,  1, -1])"
      ]
     },
     "execution_count": 44,
     "metadata": {},
     "output_type": "execute_result"
    }
   ],
   "source": [
    "a_1D_array[-1:2:-2]"
   ]
  },
  {
   "cell_type": "markdown",
   "id": "d72b0728-3583-4a3a-bf2c-a4b3ae67c3a0",
   "metadata": {},
   "source": [
    "#### 其他步长设置"
   ]
  },
  {
   "cell_type": "code",
   "execution_count": 45,
   "id": "64f06c3c-8c79-4adc-902e-5787655033e7",
   "metadata": {},
   "outputs": [
    {
     "data": {
      "text/plain": [
       "array([-5, -3, -1,  1])"
      ]
     },
     "execution_count": 45,
     "metadata": {},
     "output_type": "execute_result"
    }
   ],
   "source": [
    "a_1D_array[:-3:2]"
   ]
  },
  {
   "cell_type": "code",
   "execution_count": 46,
   "id": "e365a279-7807-4c49-ba64-863ca78c19f0",
   "metadata": {},
   "outputs": [
    {
     "data": {
      "text/plain": [
       "array([-4, -2,  0,  2,  4])"
      ]
     },
     "execution_count": 46,
     "metadata": {},
     "output_type": "execute_result"
    }
   ],
   "source": [
    "a_1D_array[1:-1:2]"
   ]
  },
  {
   "cell_type": "code",
   "execution_count": 47,
   "id": "7f2b98ed-1350-4bef-9ef2-b2d420557876",
   "metadata": {},
   "outputs": [
    {
     "data": {
      "text/plain": [
       "array([-5, -2,  1,  4])"
      ]
     },
     "execution_count": 47,
     "metadata": {},
     "output_type": "execute_result"
    }
   ],
   "source": [
    "a_1D_array[::3]"
   ]
  },
  {
   "cell_type": "code",
   "execution_count": 48,
   "id": "d7299624-2d8f-412a-af36-324ab9e6a63b",
   "metadata": {},
   "outputs": [
    {
     "data": {
      "text/plain": [
       "array([-4, -1,  2,  5])"
      ]
     },
     "execution_count": 48,
     "metadata": {},
     "output_type": "execute_result"
    }
   ],
   "source": [
    "a_1D_array[1::3]"
   ]
  },
  {
   "cell_type": "markdown",
   "id": "14acc8dc-2a1d-469c-9bcb-497182a6ff17",
   "metadata": {},
   "source": [
    "### 整数索引"
   ]
  },
  {
   "cell_type": "code",
   "execution_count": 49,
   "id": "07c1bed2-bf5f-47e8-bc35-775b192bded9",
   "metadata": {},
   "outputs": [
    {
     "data": {
      "text/plain": [
       "array([-5, -4, -3,  5])"
      ]
     },
     "execution_count": 49,
     "metadata": {},
     "output_type": "execute_result"
    }
   ],
   "source": [
    "# 获取，第一、二 三，和最后一个元素\n",
    "a_1D_array[[0, 1, 2, -1]]"
   ]
  },
  {
   "cell_type": "code",
   "execution_count": 50,
   "id": "3164c899-21d6-43ef-8983-0f9db4e6d732",
   "metadata": {},
   "outputs": [
    {
     "data": {
      "text/plain": [
       "array([-5, -4, -3,  5])"
      ]
     },
     "execution_count": 50,
     "metadata": {},
     "output_type": "execute_result"
    }
   ],
   "source": [
    "a_1D_array[np.r_[0:3, -1]]\n",
    "\n",
    "# numpy.r_ 是一个用于将切片对象转换为一个沿着第一个轴堆叠的 NumPy 数组的函数。\n",
    "# 它可以在数组创建和索引时使用。\n",
    "# 它的作用类似于 numpy.concatenate 和 numpy.vstack，\n",
    "# 但是使用切片对象作为索引来方便快捷地创建数组。"
   ]
  },
  {
   "cell_type": "code",
   "execution_count": 51,
   "id": "7eeb2587-4203-406b-b636-e1482b1c0492",
   "metadata": {},
   "outputs": [
    {
     "data": {
      "text/plain": [
       "array([-5, -4, -3,  5])"
      ]
     },
     "execution_count": 51,
     "metadata": {},
     "output_type": "execute_result"
    }
   ],
   "source": [
    "# 或者采用合并\n",
    "first_three = a_1D_array[:3]   # 获取前三个元素\n",
    "last_one    = a_1D_array[-1:]  # 获取最后一个元素\n",
    "np.concatenate((first_three[:3], last_one[-1:]))"
   ]
  },
  {
   "cell_type": "markdown",
   "id": "17b58d13-d52e-4dc9-a129-8cdfb0460462",
   "metadata": {},
   "source": [
    "### 布尔索引"
   ]
  },
  {
   "cell_type": "code",
   "execution_count": 52,
   "id": "8fc3df49-8c2d-4ae1-9269-ac508e06d81a",
   "metadata": {},
   "outputs": [
    {
     "data": {
      "text/plain": [
       "array([False, False, False, False, False, False, False,  True,  True,\n",
       "        True,  True])"
      ]
     },
     "execution_count": 52,
     "metadata": {},
     "output_type": "execute_result"
    }
   ],
   "source": [
    "# 大于 1 的元素\n",
    "bool_greater_than_1 = a_1D_array > 1\n",
    "bool_greater_than_1"
   ]
  },
  {
   "cell_type": "code",
   "execution_count": 53,
   "id": "63886bf8-5e24-4d31-aed5-fbec2949f20c",
   "metadata": {},
   "outputs": [
    {
     "data": {
      "text/plain": [
       "array([2, 3, 4, 5])"
      ]
     },
     "execution_count": 53,
     "metadata": {},
     "output_type": "execute_result"
    }
   ],
   "source": [
    "a_1D_array[bool_greater_than_1]"
   ]
  },
  {
   "cell_type": "code",
   "execution_count": 54,
   "id": "fc2fef85-eff1-44e8-9736-5e6fe9658155",
   "metadata": {},
   "outputs": [
    {
     "data": {
      "text/plain": [
       "array([2, 3, 4, 5])"
      ]
     },
     "execution_count": 54,
     "metadata": {},
     "output_type": "execute_result"
    }
   ],
   "source": [
    "a_1D_array[a_1D_array > 1]"
   ]
  },
  {
   "cell_type": "code",
   "execution_count": 55,
   "id": "103a629c-561c-4872-8d77-147023e7fc4a",
   "metadata": {},
   "outputs": [
    {
     "data": {
      "text/plain": [
       "array([False, False, False, False, False,  True,  True,  True,  True,\n",
       "        True,  True])"
      ]
     },
     "execution_count": 55,
     "metadata": {},
     "output_type": "execute_result"
    }
   ],
   "source": [
    "# 大于等于 0 的元素\n",
    "bool_greater_than_eq_0 = a_1D_array >= 0\n",
    "bool_greater_than_eq_0"
   ]
  },
  {
   "cell_type": "code",
   "execution_count": 56,
   "id": "27a3c1a8-40c5-449e-9a16-ff0244b11653",
   "metadata": {},
   "outputs": [
    {
     "data": {
      "text/plain": [
       "array([0, 1, 2, 3, 4, 5])"
      ]
     },
     "execution_count": 56,
     "metadata": {},
     "output_type": "execute_result"
    }
   ],
   "source": [
    "a_1D_array[bool_greater_than_eq_0]"
   ]
  },
  {
   "cell_type": "code",
   "execution_count": 57,
   "id": "91b3763e-7c51-405a-90c6-70d7977d2ef1",
   "metadata": {},
   "outputs": [
    {
     "data": {
      "text/plain": [
       "array([0, 1, 2, 3, 4, 5])"
      ]
     },
     "execution_count": 57,
     "metadata": {},
     "output_type": "execute_result"
    }
   ],
   "source": [
    "a_1D_array[a_1D_array >= 0]"
   ]
  },
  {
   "cell_type": "code",
   "execution_count": 58,
   "id": "9b854afb-6fbd-442e-8e92-1cf47a9d66e8",
   "metadata": {},
   "outputs": [
    {
     "data": {
      "text/plain": [
       "array([ True,  True,  True,  True,  True, False, False, False, False,\n",
       "       False, False])"
      ]
     },
     "execution_count": 58,
     "metadata": {},
     "output_type": "execute_result"
    }
   ],
   "source": [
    "# 小于 0 的元素\n",
    "bool_less_than_0 = a_1D_array < 0\n",
    "bool_less_than_0"
   ]
  },
  {
   "cell_type": "code",
   "execution_count": 59,
   "id": "fac5b10a-e9cd-4354-8fa1-9b2f73fc4b9c",
   "metadata": {},
   "outputs": [
    {
     "data": {
      "text/plain": [
       "array([-5, -4, -3, -2, -1])"
      ]
     },
     "execution_count": 59,
     "metadata": {},
     "output_type": "execute_result"
    }
   ],
   "source": [
    "a_1D_array[bool_less_than_0]"
   ]
  },
  {
   "cell_type": "code",
   "execution_count": 60,
   "id": "7946cb99-f75f-41d0-b55a-fc3ca86523d1",
   "metadata": {},
   "outputs": [
    {
     "data": {
      "text/plain": [
       "array([-5, -4, -3, -2, -1])"
      ]
     },
     "execution_count": 60,
     "metadata": {},
     "output_type": "execute_result"
    }
   ],
   "source": [
    "a_1D_array[a_1D_array < 0]"
   ]
  },
  {
   "cell_type": "code",
   "execution_count": 61,
   "id": "22ae208c-b173-4297-9330-583f3c9e46eb",
   "metadata": {},
   "outputs": [
    {
     "data": {
      "text/plain": [
       "array([ True,  True,  True,  True,  True,  True, False, False, False,\n",
       "       False, False])"
      ]
     },
     "execution_count": 61,
     "metadata": {},
     "output_type": "execute_result"
    }
   ],
   "source": [
    "bool_less_than_eq_0 = a_1D_array <= 0\n",
    "bool_less_than_eq_0"
   ]
  },
  {
   "cell_type": "code",
   "execution_count": 62,
   "id": "8d7a2145-dba3-437b-9049-6e59f90e2bb9",
   "metadata": {},
   "outputs": [
    {
     "data": {
      "text/plain": [
       "array([-5, -4, -3, -2, -1,  0])"
      ]
     },
     "execution_count": 62,
     "metadata": {},
     "output_type": "execute_result"
    }
   ],
   "source": [
    "a_1D_array[bool_less_than_eq_0]"
   ]
  },
  {
   "cell_type": "code",
   "execution_count": 63,
   "id": "6e2f416e-12c1-4092-b681-83d916cba86b",
   "metadata": {},
   "outputs": [
    {
     "data": {
      "text/plain": [
       "array([-5, -4, -3, -2, -1,  0])"
      ]
     },
     "execution_count": 63,
     "metadata": {},
     "output_type": "execute_result"
    }
   ],
   "source": [
    "a_1D_array[a_1D_array <= 0]"
   ]
  },
  {
   "cell_type": "code",
   "execution_count": 64,
   "id": "585f7b25-67c2-43d4-a24e-715c932e1885",
   "metadata": {},
   "outputs": [],
   "source": [
    "### 大于-3，小于3的元素"
   ]
  },
  {
   "cell_type": "code",
   "execution_count": 65,
   "id": "b9640ea7-a7e5-4116-b98d-821cee66e10b",
   "metadata": {},
   "outputs": [
    {
     "data": {
      "text/plain": [
       "array([-2, -1,  0,  1,  2])"
      ]
     },
     "execution_count": 65,
     "metadata": {},
     "output_type": "execute_result"
    }
   ],
   "source": [
    "a_1D_array[(a_1D_array < 3) & (a_1D_array > -3)]"
   ]
  },
  {
   "cell_type": "code",
   "execution_count": 66,
   "id": "2cbad4e8-f16f-4744-9549-e417211bcd04",
   "metadata": {},
   "outputs": [
    {
     "data": {
      "text/plain": [
       "array([100, 100, 100, 100, 100, 100,   1,   2,   3,   4,   5])"
      ]
     },
     "execution_count": 66,
     "metadata": {},
     "output_type": "execute_result"
    }
   ],
   "source": [
    "a_1D_array_copy_1 = np.copy(a_1D_array)\n",
    "\n",
    "a_1D_array_copy_1[a_1D_array_copy_1 <= 0] = 100\n",
    "a_1D_array_copy_1"
   ]
  },
  {
   "cell_type": "code",
   "execution_count": 67,
   "id": "60e1ac6d-3357-453b-843d-cc829c88371c",
   "metadata": {},
   "outputs": [
    {
     "data": {
      "text/plain": [
       "array([ -5,  -4,  -3, 100, 100, 100, 100, 100,   3,   4,   5])"
      ]
     },
     "execution_count": 67,
     "metadata": {},
     "output_type": "execute_result"
    }
   ],
   "source": [
    "a_1D_array_copy_2 = np.copy(a_1D_array)\n",
    "a_1D_array_copy_2[(a_1D_array_copy_2 < 3) & (a_1D_array_copy_2 > -3)] = 100\n",
    "a_1D_array_copy_2"
   ]
  },
  {
   "cell_type": "markdown",
   "id": "0c1884bd-53ed-4a8e-9dca-cfee0cdc7086",
   "metadata": {},
   "source": [
    "## 视图 vs 副本"
   ]
  },
  {
   "cell_type": "code",
   "execution_count": 68,
   "id": "7253dfa7-bf19-4c16-a204-3b9fdcc3b5bd",
   "metadata": {},
   "outputs": [
    {
     "name": "stdout",
     "output_type": "stream",
     "text": [
      "[   1 1000    3    4    5]\n",
      "[   1 1000    3    4    5]\n",
      "[888   4]\n"
     ]
    }
   ],
   "source": [
    "# 创建一个一维数组\n",
    "a = np.array([1, 2, 3, 4, 5])\n",
    "\n",
    "# 创建一个切片视图\n",
    "s = a[1:3]\n",
    "\n",
    "# 修改视图中的数据\n",
    "s[0] = 1000\n",
    "\n",
    "# 查看原始数组\n",
    "print(a) # 输出：[1 0 3 4 5]\n",
    "\n",
    "# 创建一个整数数组索引副本\n",
    "c = a[[1, 3]].copy()\n",
    "\n",
    "# 修改副本中的数据\n",
    "c[0] = 888\n",
    "\n",
    "# 查看原始数组\n",
    "print(a) # 输出：[1 0 3 4 5]\n",
    "print(c)"
   ]
  },
  {
   "cell_type": "code",
   "execution_count": 69,
   "id": "41836ae2-121e-4912-8b04-9accb425596b",
   "metadata": {},
   "outputs": [
    {
     "name": "stdout",
     "output_type": "stream",
     "text": [
      "[[1000    2    3]\n",
      " [   4    5    6]\n",
      " [   7    8    9]]\n"
     ]
    }
   ],
   "source": [
    "# 创建一个3x3的数组\n",
    "a = np.array([[1, 2, 3], [4, 5, 6], [7, 8, 9]])\n",
    "\n",
    "# 使用a[:, np.newaxis]创建一个新的视图\n",
    "b = a[:, np.newaxis]\n",
    "\n",
    "# 修改b中的值\n",
    "b[0, 0, 0] = 1000\n",
    "\n",
    "# 打印原始数组a\n",
    "print(a)\n",
    "\n",
    "# a[:, numpy.newaxis] 返回的是原始数组的一个视图，而不是副本\n"
   ]
  },
  {
   "cell_type": "markdown",
   "id": "134e99a5-8931-4dd0-8878-f401d952d7a0",
   "metadata": {},
   "source": [
    "## 二维数组"
   ]
  },
  {
   "cell_type": "markdown",
   "id": "4debd799-d8be-479c-818e-51f1d7eb1317",
   "metadata": {},
   "source": [
    "### 定义二维数组"
   ]
  },
  {
   "cell_type": "code",
   "execution_count": 70,
   "id": "01a2fb66-3ccf-44a3-83f8-800e2d594a2b",
   "metadata": {},
   "outputs": [],
   "source": [
    "A_2D = np.array([[-7,-6,-5,-4,-3],\n",
    "                 [-2,-1, 0, 1, 2],\n",
    "                 [ 3, 4, 5, 6, 7]])"
   ]
  },
  {
   "cell_type": "code",
   "execution_count": 71,
   "id": "59e1ef1b-ec18-4f64-a229-7790c9550737",
   "metadata": {},
   "outputs": [
    {
     "data": {
      "image/png": "[encoded data removed]",
      "text/plain": [
       "<Figure size 300x200 with 1 Axes>"
      ]
     },
     "metadata": {},
     "output_type": "display_data"
    }
   ],
   "source": [
    "visualize_2D(A_2D, '二维数组', 7, -7)"
   ]
  },
  {
   "cell_type": "markdown",
   "id": "1ca9e07c-b4ea-4959-aaa7-799e69e01e03",
   "metadata": {},
   "source": [
    "### 索引"
   ]
  },
  {
   "cell_type": "markdown",
   "id": "f056cf80-d1b2-41d8-ba0e-4c23040f5055",
   "metadata": {},
   "source": [
    "#### 取出单一元素"
   ]
  },
  {
   "cell_type": "code",
   "execution_count": 72,
   "id": "0de2fcad-26cf-4d86-90fe-03305540c110",
   "metadata": {},
   "outputs": [
    {
     "data": {
      "text/plain": [
       "-7"
      ]
     },
     "execution_count": 72,
     "metadata": {},
     "output_type": "execute_result"
    }
   ],
   "source": [
    "A_2D[0, 0]"
   ]
  },
  {
   "cell_type": "code",
   "execution_count": 73,
   "id": "2631a0bc-5c17-4d26-a438-cd1c7e8fb6b6",
   "metadata": {},
   "outputs": [
    {
     "data": {
      "text/plain": [
       "numpy.int32"
      ]
     },
     "execution_count": 73,
     "metadata": {},
     "output_type": "execute_result"
    }
   ],
   "source": [
    "type(A_2D[0, 0])"
   ]
  },
  {
   "cell_type": "code",
   "execution_count": 74,
   "id": "bd8cd1b4-7e68-4596-922a-535f076aa486",
   "metadata": {},
   "outputs": [
    {
     "data": {
      "text/plain": [
       "array([-7])"
      ]
     },
     "execution_count": 74,
     "metadata": {},
     "output_type": "execute_result"
    }
   ],
   "source": [
    "A_2D[[0], [0]]"
   ]
  },
  {
   "cell_type": "code",
   "execution_count": 75,
   "id": "21a9a017-0604-4820-9331-74ff006d3766",
   "metadata": {},
   "outputs": [
    {
     "data": {
      "text/plain": [
       "numpy.ndarray"
      ]
     },
     "execution_count": 75,
     "metadata": {},
     "output_type": "execute_result"
    }
   ],
   "source": [
    "type(A_2D[[0], [0]])"
   ]
  },
  {
   "cell_type": "code",
   "execution_count": 76,
   "id": "7a7d56d4-42d7-4479-b518-0fb5f2b2cb67",
   "metadata": {},
   "outputs": [
    {
     "data": {
      "text/plain": [
       "0"
      ]
     },
     "execution_count": 76,
     "metadata": {},
     "output_type": "execute_result"
    }
   ],
   "source": [
    "A_2D[1,2]"
   ]
  },
  {
   "cell_type": "code",
   "execution_count": 77,
   "id": "b8c91005-30d0-4c60-ac5f-2555f80e8b45",
   "metadata": {},
   "outputs": [
    {
     "data": {
      "text/plain": [
       "array([0])"
      ]
     },
     "execution_count": 77,
     "metadata": {},
     "output_type": "execute_result"
    }
   ],
   "source": [
    "A_2D[[1], [2]]"
   ]
  },
  {
   "cell_type": "code",
   "execution_count": 78,
   "id": "9551adbd-37f4-4095-88ec-35e155cd6c73",
   "metadata": {},
   "outputs": [
    {
     "data": {
      "text/plain": [
       "0"
      ]
     },
     "execution_count": 78,
     "metadata": {},
     "output_type": "execute_result"
    }
   ],
   "source": [
    "A_2D[1][2]"
   ]
  },
  {
   "cell_type": "markdown",
   "id": "5e6f698a-45e7-4671-8414-3efc6be45c20",
   "metadata": {},
   "source": [
    "#### 取出行"
   ]
  },
  {
   "cell_type": "code",
   "execution_count": 79,
   "id": "c1027fa5-4f97-4420-80b4-c68a895e9da4",
   "metadata": {},
   "outputs": [
    {
     "data": {
      "text/plain": [
       "array([-7, -6, -5, -4, -3])"
      ]
     },
     "execution_count": 79,
     "metadata": {},
     "output_type": "execute_result"
    }
   ],
   "source": [
    "# 取出第一行，结果为一维向量\n",
    "A_2D[0]"
   ]
  },
  {
   "cell_type": "code",
   "execution_count": 120,
   "id": "838d065d-1745-4f34-9711-b2e4404dd8a3",
   "metadata": {},
   "outputs": [
    {
     "data": {
      "text/plain": [
       "array([-7, -6, -5, -4, -3])"
      ]
     },
     "execution_count": 120,
     "metadata": {},
     "output_type": "execute_result"
    }
   ],
   "source": [
    "A_2D[0, :]"
   ]
  },
  {
   "cell_type": "code",
   "execution_count": 80,
   "id": "2b497f5c-ad97-4d04-9046-75489a98c08b",
   "metadata": {},
   "outputs": [
    {
     "data": {
      "text/plain": [
       "array([-2, -1,  0,  1,  2])"
      ]
     },
     "execution_count": 80,
     "metadata": {},
     "output_type": "execute_result"
    }
   ],
   "source": [
    "A_2D[1]"
   ]
  },
  {
   "cell_type": "code",
   "execution_count": 121,
   "id": "934137ab-6eef-41af-b4eb-f21c3c081eb5",
   "metadata": {},
   "outputs": [
    {
     "data": {
      "text/plain": [
       "array([-2, -1,  0,  1,  2])"
      ]
     },
     "execution_count": 121,
     "metadata": {},
     "output_type": "execute_result"
    }
   ],
   "source": [
    "A_2D[1, :]"
   ]
  },
  {
   "cell_type": "code",
   "execution_count": 81,
   "id": "e2390f12-b026-412d-a522-e9d94d44882a",
   "metadata": {},
   "outputs": [
    {
     "data": {
      "text/plain": [
       "array([[-7, -6, -5, -4, -3]])"
      ]
     },
     "execution_count": 81,
     "metadata": {},
     "output_type": "execute_result"
    }
   ],
   "source": [
    "# 取出第一行，结果为二维行向量\n",
    "A_2D[[0],:]"
   ]
  },
  {
   "cell_type": "code",
   "execution_count": 82,
   "id": "815068be-7643-4f22-9d4b-faa0ea9b7e18",
   "metadata": {},
   "outputs": [
    {
     "data": {
      "text/plain": [
       "array([[-7, -6, -5, -4, -3]])"
      ]
     },
     "execution_count": 82,
     "metadata": {},
     "output_type": "execute_result"
    }
   ],
   "source": [
    "A_2D[0, np.newaxis]"
   ]
  },
  {
   "cell_type": "code",
   "execution_count": 118,
   "id": "b2dfe161-9ee1-43af-8dd5-696d09655c4d",
   "metadata": {},
   "outputs": [
    {
     "data": {
      "text/plain": [
       "array([[-7, -6, -5, -4, -3],\n",
       "       [ 3,  4,  5,  6,  7]])"
      ]
     },
     "execution_count": 118,
     "metadata": {},
     "output_type": "execute_result"
    }
   ],
   "source": [
    "A_2D[[0, 2]]"
   ]
  },
  {
   "cell_type": "code",
   "execution_count": 116,
   "id": "3c0d7d6a-dbbb-4c5e-973c-b76a5eae0f8c",
   "metadata": {},
   "outputs": [
    {
     "data": {
      "text/plain": [
       "array([[-7, -6, -5, -4, -3],\n",
       "       [ 3,  4,  5,  6,  7]])"
      ]
     },
     "execution_count": 116,
     "metadata": {},
     "output_type": "execute_result"
    }
   ],
   "source": [
    "A_2D[[0, 2], :]"
   ]
  },
  {
   "cell_type": "markdown",
   "id": "e92f7c81-14dd-493a-9407-7e3c89f54a32",
   "metadata": {},
   "source": [
    "#### 取出列"
   ]
  },
  {
   "cell_type": "code",
   "execution_count": 85,
   "id": "17ba046e-11aa-4fd6-abe2-56ae8d3f1768",
   "metadata": {},
   "outputs": [
    {
     "data": {
      "text/plain": [
       "array([-7, -2,  3])"
      ]
     },
     "execution_count": 85,
     "metadata": {},
     "output_type": "execute_result"
    }
   ],
   "source": [
    "A_2D[:,0]"
   ]
  },
  {
   "cell_type": "code",
   "execution_count": 138,
   "id": "49ad6591-8cbd-49f1-a5ce-056a2fc5232d",
   "metadata": {},
   "outputs": [
    {
     "data": {
      "text/plain": [
       "array([-7, -2,  3])"
      ]
     },
     "execution_count": 138,
     "metadata": {},
     "output_type": "execute_result"
    }
   ],
   "source": [
    "A_2D[...,0]"
   ]
  },
  {
   "cell_type": "code",
   "execution_count": 122,
   "id": "bd572c1d-72ef-47b6-b652-7a472f391a06",
   "metadata": {},
   "outputs": [
    {
     "data": {
      "text/plain": [
       "array([[-7],\n",
       "       [-2],\n",
       "       [ 3]])"
      ]
     },
     "execution_count": 122,
     "metadata": {},
     "output_type": "execute_result"
    }
   ],
   "source": [
    "A_2D[:,0, np.newaxis]"
   ]
  },
  {
   "cell_type": "code",
   "execution_count": 87,
   "id": "bbb94eda-aaa8-495d-ad3e-60ef6ba687dd",
   "metadata": {},
   "outputs": [
    {
     "data": {
      "text/plain": [
       "array([[-7],\n",
       "       [-2],\n",
       "       [ 3]])"
      ]
     },
     "execution_count": 87,
     "metadata": {},
     "output_type": "execute_result"
    }
   ],
   "source": [
    "A_2D[:,[0]]"
   ]
  },
  {
   "cell_type": "code",
   "execution_count": 127,
   "id": "ed2f7d08-336d-4d92-8496-0bd551ebc3ee",
   "metadata": {},
   "outputs": [
    {
     "data": {
      "text/plain": [
       "array([[-7, -2,  3]])"
      ]
     },
     "execution_count": 127,
     "metadata": {},
     "output_type": "execute_result"
    }
   ],
   "source": [
    "A_2D[np.newaxis, :,0]\n",
    "#理解：这里np.newaxis是最后作用的，即先由A_2D[:,0]得到一个一维数组，然后再在最前面加一个维度，即得到一个二维数组。"
   ]
  },
  {
   "cell_type": "code",
   "execution_count": 88,
   "id": "f50d5e49-ce17-4fca-8384-a579d357791d",
   "metadata": {},
   "outputs": [
    {
     "data": {
      "text/plain": [
       "array([-6, -1,  4])"
      ]
     },
     "execution_count": 88,
     "metadata": {},
     "output_type": "execute_result"
    }
   ],
   "source": [
    "A_2D[:,1]"
   ]
  },
  {
   "cell_type": "code",
   "execution_count": 89,
   "id": "5da4c9e6-c533-4248-876f-8a6894e334c2",
   "metadata": {},
   "outputs": [
    {
     "data": {
      "text/plain": [
       "array([[-7, -5, -3],\n",
       "       [-2,  0,  2],\n",
       "       [ 3,  5,  7]])"
      ]
     },
     "execution_count": 89,
     "metadata": {},
     "output_type": "execute_result"
    }
   ],
   "source": [
    "A_2D[:,[0,2,4]]"
   ]
  },
  {
   "cell_type": "code",
   "execution_count": 123,
   "id": "fd7e7b74-89ba-4eae-b9fd-358f8f5ca4c7",
   "metadata": {},
   "outputs": [
    {
     "data": {
      "text/plain": [
       "array([[-7, -5, -3],\n",
       "       [-2,  0,  2],\n",
       "       [ 3,  5,  7]])"
      ]
     },
     "execution_count": 123,
     "metadata": {},
     "output_type": "execute_result"
    }
   ],
   "source": [
    "A_2D[:,0::2]"
   ]
  },
  {
   "cell_type": "markdown",
   "id": "f18e7177-7025-4e3d-9f34-2393ef0740d6",
   "metadata": {},
   "source": [
    "#### 取出特定行列组合"
   ]
  },
  {
   "cell_type": "code",
   "execution_count": 130,
   "id": "d4761317-f5a6-46c4-aefa-7071df5d6514",
   "metadata": {},
   "outputs": [
    {
     "data": {
      "text/plain": [
       "array([0, 1, 2])"
      ]
     },
     "execution_count": 130,
     "metadata": {},
     "output_type": "execute_result"
    }
   ],
   "source": [
    "A_2D[1,2::]"
   ]
  },
  {
   "cell_type": "code",
   "execution_count": 131,
   "id": "0f13b37c-2643-4cc4-bb15-7ed6c00371af",
   "metadata": {},
   "outputs": [
    {
     "data": {
      "text/plain": [
       "array([[0, 1, 2]])"
      ]
     },
     "execution_count": 131,
     "metadata": {},
     "output_type": "execute_result"
    }
   ],
   "source": [
    "A_2D[np.newaxis, 1,2::]"
   ]
  },
  {
   "cell_type": "code",
   "execution_count": 132,
   "id": "1fa43247-30cf-4468-98c3-9cb92c20411d",
   "metadata": {},
   "outputs": [
    {
     "data": {
      "text/plain": [
       "array([[0],\n",
       "       [1],\n",
       "       [2]])"
      ]
     },
     "execution_count": 132,
     "metadata": {},
     "output_type": "execute_result"
    }
   ],
   "source": [
    "A_2D[1,2::, np.newaxis]"
   ]
  },
  {
   "cell_type": "code",
   "execution_count": 134,
   "id": "875df8e3-d015-467b-b2bc-2d8ebf2f2dad",
   "metadata": {},
   "outputs": [
    {
     "data": {
      "text/plain": [
       "array([[-2,  0,  2],\n",
       "       [ 3,  5,  7]])"
      ]
     },
     "execution_count": 134,
     "metadata": {},
     "output_type": "execute_result"
    }
   ],
   "source": [
    "A_2D[1::,[0,2,4]]"
   ]
  },
  {
   "cell_type": "code",
   "execution_count": 133,
   "id": "7563650c-a1f2-4036-ab66-c53af3ebe46d",
   "metadata": {},
   "outputs": [
    {
     "data": {
      "text/plain": [
       "array([[-2,  0,  2],\n",
       "       [ 3,  5,  7]])"
      ]
     },
     "execution_count": 133,
     "metadata": {},
     "output_type": "execute_result"
    }
   ],
   "source": [
    "A_2D[1::,0::2]"
   ]
  },
  {
   "cell_type": "code",
   "execution_count": 136,
   "id": "c2c5cf27-3657-402e-b52f-176fa6b6fc47",
   "metadata": {},
   "outputs": [
    {
     "data": {
      "text/plain": [
       "array([[-7, -5],\n",
       "       [ 3,  5]])"
      ]
     },
     "execution_count": 136,
     "metadata": {},
     "output_type": "execute_result"
    }
   ],
   "source": [
    "A_2D[::2,:-1:2]"
   ]
  },
  {
   "cell_type": "code",
   "execution_count": 93,
   "id": "76807339-7898-4d29-86d9-c5798f1eef57",
   "metadata": {},
   "outputs": [
    {
     "data": {
      "text/plain": [
       "array([[-7, -5],\n",
       "       [ 3,  5]])"
      ]
     },
     "execution_count": 93,
     "metadata": {},
     "output_type": "execute_result"
    }
   ],
   "source": [
    "# 二次切片\n",
    "A_2D[:,[0,2]][[0, 2], :]"
   ]
  },
  {
   "cell_type": "code",
   "execution_count": 94,
   "id": "8433b3b5-a9a0-4b47-b6a4-add076909b9d",
   "metadata": {},
   "outputs": [
    {
     "data": {
      "text/plain": [
       "array([[-7, -5],\n",
       "       [ 3,  5]])"
      ]
     },
     "execution_count": 94,
     "metadata": {},
     "output_type": "execute_result"
    }
   ],
   "source": [
    "A_2D[[0, 2], :][:,[0,2]]"
   ]
  },
  {
   "cell_type": "markdown",
   "id": "f413fde4-e19a-47e4-84b4-18b08e7d8873",
   "metadata": {},
   "source": [
    "#### 使用np.ix_()"
   ]
  },
  {
   "cell_type": "code",
   "execution_count": 95,
   "id": "3055193d-09b5-4aa5-b915-8c3a6b820c07",
   "metadata": {},
   "outputs": [
    {
     "data": {
      "text/plain": [
       "array([[-7, -5],\n",
       "       [ 3,  5]])"
      ]
     },
     "execution_count": 95,
     "metadata": {},
     "output_type": "execute_result"
    }
   ],
   "source": [
    "A_2D[np.ix_([0, 2], [0, 2])]"
   ]
  },
  {
   "cell_type": "markdown",
   "id": "6e2d7b90-cd10-4a1f-9412-9da6ef27c65c",
   "metadata": {},
   "source": [
    "### 布尔索引"
   ]
  },
  {
   "cell_type": "code",
   "execution_count": 96,
   "id": "b863a4f3-35b4-4600-8f71-45b4e817f147",
   "metadata": {},
   "outputs": [
    {
     "data": {
      "text/plain": [
       "array([[False, False, False, False, False],\n",
       "       [False, False, False,  True,  True],\n",
       "       [ True,  True,  True,  True,  True]])"
      ]
     },
     "execution_count": 96,
     "metadata": {},
     "output_type": "execute_result"
    }
   ],
   "source": [
    "A_2D > 0"
   ]
  },
  {
   "cell_type": "code",
   "execution_count": 137,
   "id": "a8a708d3-8070-4fe6-9239-dd0afd6bf0fe",
   "metadata": {},
   "outputs": [
    {
     "data": {
      "text/plain": [
       "array([1, 2, 3, 4, 5, 6, 7])"
      ]
     },
     "execution_count": 137,
     "metadata": {},
     "output_type": "execute_result"
    }
   ],
   "source": [
    "A_2D[A_2D > 0]"
   ]
  },
  {
   "cell_type": "code",
   "execution_count": 97,
   "id": "5b06fc8b-8930-4568-9eba-c1a59bfbc846",
   "metadata": {},
   "outputs": [
    {
     "data": {
      "text/plain": [
       "array([[1],\n",
       "       [2],\n",
       "       [3],\n",
       "       [4],\n",
       "       [5],\n",
       "       [6],\n",
       "       [7]])"
      ]
     },
     "execution_count": 97,
     "metadata": {},
     "output_type": "execute_result"
    }
   ],
   "source": [
    "A_2D[A_2D > 0, np.newaxis]"
   ]
  },
  {
   "cell_type": "code",
   "execution_count": 98,
   "id": "fbb9d558-c44d-47d7-a161-a34671394359",
   "metadata": {},
   "outputs": [
    {
     "data": {
      "text/plain": [
       "array([[1, 2, 3, 4, 5, 6, 7]])"
      ]
     },
     "execution_count": 98,
     "metadata": {},
     "output_type": "execute_result"
    }
   ],
   "source": [
    "A_2D[np.newaxis, A_2D > 0]"
   ]
  },
  {
   "cell_type": "code",
   "execution_count": 99,
   "id": "43201add-7e8f-433b-9885-2f0b21b47147",
   "metadata": {},
   "outputs": [
    {
     "data": {
      "text/plain": [
       "array([[ True,  True,  True,  True,  True],\n",
       "       [ True,  True,  True,  True,  True],\n",
       "       [ True, False, False, False, False]])"
      ]
     },
     "execution_count": 99,
     "metadata": {},
     "output_type": "execute_result"
    }
   ],
   "source": [
    "A_2D < 4"
   ]
  },
  {
   "cell_type": "code",
   "execution_count": 100,
   "id": "7c527831-25ae-4569-819a-9bc74d5a6ed6",
   "metadata": {},
   "outputs": [
    {
     "data": {
      "text/plain": [
       "7"
      ]
     },
     "execution_count": 100,
     "metadata": {},
     "output_type": "execute_result"
    }
   ],
   "source": [
    "(A_2D > 0).sum()"
   ]
  },
  {
   "cell_type": "markdown",
   "id": "fcce04be-9fdf-4694-ac79-aeef929e885a",
   "metadata": {},
   "source": [
    "## 三维数组"
   ]
  },
  {
   "cell_type": "code",
   "execution_count": 101,
   "id": "cc5dccfb-8655-4f28-b715-ec6d587617a6",
   "metadata": {},
   "outputs": [],
   "source": [
    "### 生成三维数组"
   ]
  },
  {
   "cell_type": "code",
   "execution_count": 102,
   "id": "3cb6b19f-78c7-46aa-9562-3cdb9bc78412",
   "metadata": {},
   "outputs": [
    {
     "data": {
      "text/plain": [
       "array([[[-30, -29, -28, -27, -26],\n",
       "        [-25, -24, -23, -22, -21],\n",
       "        [-20, -19, -18, -17, -16],\n",
       "        [-15, -14, -13, -12, -11]],\n",
       "\n",
       "       [[-10,  -9,  -8,  -7,  -6],\n",
       "        [ -5,  -4,  -3,  -2,  -1],\n",
       "        [  0,   1,   2,   3,   4],\n",
       "        [  5,   6,   7,   8,   9]],\n",
       "\n",
       "       [[ 10,  11,  12,  13,  14],\n",
       "        [ 15,  16,  17,  18,  19],\n",
       "        [ 20,  21,  22,  23,  24],\n",
       "        [ 25,  26,  27,  28,  29]]])"
      ]
     },
     "execution_count": 102,
     "metadata": {},
     "output_type": "execute_result"
    }
   ],
   "source": [
    "A_3D = np.arange(-30, 30).reshape(3,4,5)\n",
    "A_3D"
   ]
  },
  {
   "cell_type": "code",
   "execution_count": 103,
   "id": "b09f9095-bc85-478c-9ffd-de1134536d23",
   "metadata": {},
   "outputs": [
    {
     "data": {
      "image/png": "[encoded data removed]",
      "text/plain": [
       "<Figure size 300x200 with 1 Axes>"
      ]
     },
     "metadata": {},
     "output_type": "display_data"
    }
   ],
   "source": [
    "visualize_2D(A_3D[0], '三维数组，第1页', 30, -30)"
   ]
  },
  {
   "cell_type": "code",
   "execution_count": 104,
   "id": "114b497f-b11a-45c5-ad72-7cd2ac90733b",
   "metadata": {},
   "outputs": [
    {
     "data": {
      "image/png": "[encoded data removed]",
      "text/plain": [
       "<Figure size 300x200 with 1 Axes>"
      ]
     },
     "metadata": {},
     "output_type": "display_data"
    }
   ],
   "source": [
    "visualize_2D(A_3D[1], '三维数组，第2页', 30, -30)"
   ]
  },
  {
   "cell_type": "code",
   "execution_count": 105,
   "id": "a1ba7370-6ca4-4a32-ba9a-db0abd2f19cc",
   "metadata": {},
   "outputs": [
    {
     "data": {
      "image/png": "[encoded data removed]",
      "text/plain": [
       "<Figure size 300x200 with 1 Axes>"
      ]
     },
     "metadata": {},
     "output_type": "display_data"
    }
   ],
   "source": [
    "visualize_2D(A_3D[2], '三维数组，第3页', 30, -30)"
   ]
  },
  {
   "cell_type": "code",
   "execution_count": 106,
   "id": "11964061-9763-4ba7-ac40-bb033b9740f1",
   "metadata": {},
   "outputs": [
    {
     "data": {
      "image/png": "[encoded data removed]",
      "text/plain": [
       "<Figure size 300x200 with 1 Axes>"
      ]
     },
     "metadata": {},
     "output_type": "display_data"
    }
   ],
   "source": [
    "visualize_2D(A_3D[:,0,:], '三维数组，第1行', 30, -30)"
   ]
  },
  {
   "cell_type": "code",
   "execution_count": 107,
   "id": "a1bbdc39-6655-4713-96a7-77dd81b01d1d",
   "metadata": {},
   "outputs": [
    {
     "data": {
      "image/png": "[encoded data removed]",
      "text/plain": [
       "<Figure size 200x200 with 1 Axes>"
      ]
     },
     "metadata": {},
     "output_type": "display_data"
    }
   ],
   "source": [
    "visualize_2D(A_3D[:,:,0], '三维数组，第1列', 30, -30)"
   ]
  },
  {
   "cell_type": "code",
   "execution_count": 108,
   "id": "66f4e819-4918-42be-9a26-847c90c963d5",
   "metadata": {},
   "outputs": [
    {
     "data": {
      "text/plain": [
       "-30"
      ]
     },
     "execution_count": 108,
     "metadata": {},
     "output_type": "execute_result"
    }
   ],
   "source": [
    "# 取出单一元素\n",
    "A_3D[0, 0, 0]"
   ]
  },
  {
   "cell_type": "code",
   "execution_count": 109,
   "id": "e35c3166-8876-428b-9d5b-ba95c625bb25",
   "metadata": {},
   "outputs": [
    {
     "data": {
      "text/plain": [
       "array([-30])"
      ]
     },
     "execution_count": 109,
     "metadata": {},
     "output_type": "execute_result"
    }
   ],
   "source": [
    "A_3D[[0], [0], [0]]"
   ]
  },
  {
   "cell_type": "code",
   "execution_count": 110,
   "id": "47919a19-2186-4cdd-bb15-00fd7c2e22cb",
   "metadata": {},
   "outputs": [
    {
     "data": {
      "text/plain": [
       "array([-15, -14, -13, -12, -11])"
      ]
     },
     "execution_count": 110,
     "metadata": {},
     "output_type": "execute_result"
    }
   ],
   "source": [
    "A_3D[0, -1, :]"
   ]
  },
  {
   "cell_type": "code",
   "execution_count": 111,
   "id": "c92bfdce-1e12-403b-b3c6-1903c759de07",
   "metadata": {},
   "outputs": [
    {
     "data": {
      "text/plain": [
       "array([-25, -24, -23, -22, -21])"
      ]
     },
     "execution_count": 111,
     "metadata": {},
     "output_type": "execute_result"
    }
   ],
   "source": [
    "A_3D[0, 1, :]"
   ]
  },
  {
   "cell_type": "code",
   "execution_count": 112,
   "id": "dccb9295-b02e-4647-b0bd-9d3c461e422b",
   "metadata": {},
   "outputs": [
    {
     "data": {
      "text/plain": [
       "array([[-10,  -9,  -8,  -7,  -6],\n",
       "       [ -5,  -4,  -3,  -2,  -1],\n",
       "       [  0,   1,   2,   3,   4],\n",
       "       [  5,   6,   7,   8,   9]])"
      ]
     },
     "execution_count": 112,
     "metadata": {},
     "output_type": "execute_result"
    }
   ],
   "source": [
    "# 使用省略号\n",
    "A_3D[1,...]"
   ]
  },
  {
   "cell_type": "code",
   "execution_count": 113,
   "id": "e7c90b81-2547-4f55-9252-44d47dcacf84",
   "metadata": {},
   "outputs": [
    {
     "data": {
      "text/plain": [
       "array([[-29, -24, -19, -14],\n",
       "       [ -9,  -4,   1,   6],\n",
       "       [ 11,  16,  21,  26]])"
      ]
     },
     "execution_count": 113,
     "metadata": {},
     "output_type": "execute_result"
    }
   ],
   "source": [
    "A_3D[...,1]"
   ]
  },
  {
   "cell_type": "code",
   "execution_count": 114,
   "id": "14556054-a39c-4177-b93f-4db47d5a0b71",
   "metadata": {},
   "outputs": [
    {
     "data": {
      "text/plain": [
       "array([[[-30, -29, -28, -27, -26],\n",
       "        [-20, -19, -18, -17, -16]],\n",
       "\n",
       "       [[-10,  -9,  -8,  -7,  -6],\n",
       "        [  0,   1,   2,   3,   4]],\n",
       "\n",
       "       [[ 10,  11,  12,  13,  14],\n",
       "        [ 20,  21,  22,  23,  24]]])"
      ]
     },
     "execution_count": 114,
     "metadata": {},
     "output_type": "execute_result"
    }
   ],
   "source": [
    "# 使用take\n",
    "np.take(A_3D, [0,2], axis=1)\n",
    "# copy or view?"
   ]
  },
  {
   "cell_type": "markdown",
   "id": "d9d1078b-98c9-4b26-b601-53f24de72573",
   "metadata": {},
   "source": [
    "## 参考阅读"
   ]
  },
  {
   "cell_type": "markdown",
   "id": "8601e7d1-241b-4fbf-9596-82148a9f91ca",
   "metadata": {},
   "source": [
    "更多有关NumPy索引和切片，请参考：  \n",
    "https://numpy.org/doc/stable/user/how-to-index.html  \n",
    "https://numpy.org/doc/stable/user/basics.indexing.html"
   ]
  },
  {
   "cell_type": "code",
   "execution_count": 115,
   "id": "2a76d332-aee9-4e69-b1d7-20b5eac340a5",
   "metadata": {},
   "outputs": [],
   "source": [
    "# Repo: https://github.com/Visualize-ML\n",
    "# Book 1 Python for Beginners  |  From Basic Arithmetic to Machine Learning\n",
    "# Published and copyrighted by Tsinghua University Press\n",
    "# Beijing, China, 2023"
   ]
  },
  {
   "cell_type": "markdown",
   "id": "d0b2f6f6",
   "metadata": {},
   "source": [
    "`numpy.ix_()`是一个函数，用于将多个一维数组转换为一个用于索引的元组。它的作用是将多个一维数组的所有组合作为索引，返回一个二维数组。这个函数通常用于高维数组的索引操作。\n",
    "\n",
    "下面是一个使用`numpy.ix_()`函数的示例：\n",
    "\n"
   ]
  },
  {
   "cell_type": "code",
   "execution_count": 1,
   "id": "a2b1fb3f",
   "metadata": {},
   "outputs": [
    {
     "name": "stdout",
     "output_type": "stream",
     "text": [
      "[[2 3]\n",
      " [8 9]]\n"
     ]
    }
   ],
   "source": [
    "import numpy as np\n",
    "\n",
    "# 生成一个二维数组\n",
    "a = np.array([[1, 2, 3], [4, 5, 6], [7, 8, 9]])\n",
    "\n",
    "# 生成两个一维数组\n",
    "row = np.array([0, 2])\n",
    "col = np.array([1, 2])\n",
    "\n",
    "# 使用ix_函数将两个一维数组转换为一个用于索引的元组\n",
    "index = np.ix_(row, col)\n",
    "print(index)\n",
    "# 使用索引元组对二维数组进行索引操作\n",
    "result = a[index]\n",
    "\n",
    "print(result)"
   ]
  },
  {
   "cell_type": "code",
   "execution_count": 2,
   "id": "0632299b",
   "metadata": {},
   "outputs": [
    {
     "name": "stdout",
     "output_type": "stream",
     "text": [
      "(array([[0],\n",
      "       [2]]), array([[1, 2]]))\n"
     ]
    }
   ],
   "source": [
    "print(index)"
   ]
  },
  {
   "cell_type": "markdown",
   "id": "cd5ab6a8",
   "metadata": {},
   "source": [
    "\n",
    "\n",
    "在这个示例中，我们生成了一个二维数组`a`，大小为3x3。然后，我们生成了两个一维数组`row`和`col`，分别包含索引行和列的位置。接下来，我们使用`numpy.ix_()`函数将这两个一维数组转换为一个用于索引的元组`index`。最后，我们使用这个索引元组对二维数组进行索引操作，得到一个新的二维数组`result`。\n",
    "\n",
    "在这个示例中，`numpy.ix_()`函数的作用是将两个一维数组的所有组合作为索引，返回一个二维数组。这个二维数组的大小为`(len(row), len(col))`，其中每个元素都是一个二元组，表示索引的行和列的位置。在对二维数组进行索引操作时，我们使用这个索引元组来指定需要索引的行和列的位置。"
   ]
  }
 ],
 "metadata": {
  "kernelspec": {
   "display_name": "Python 3 (ipykernel)",
   "language": "python",
   "name": "python3"
  },
  "language_info": {
   "codemirror_mode": {
    "name": "ipython",
    "version": 3
   },
   "file_extension": ".py",
   "mimetype": "text/x-python",
   "name": "python",
   "nbconvert_exporter": "python",
   "pygments_lexer": "ipython3",
   "version": "3.11.1"
  }
 },
 "nbformat": 4,
 "nbformat_minor": 5
}
